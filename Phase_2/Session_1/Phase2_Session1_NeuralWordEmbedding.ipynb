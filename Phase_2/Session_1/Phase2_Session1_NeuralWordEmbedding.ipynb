{
  "nbformat": 4,
  "nbformat_minor": 0,
  "metadata": {
    "colab": {
      "name": "Phase2_Session1_NeuralWordEmbedding",
      "provenance": [],
      "collapsed_sections": [
        "DflzouMxGHET",
        "TG7MRfBT0Fl_"
      ],
      "authorship_tag": "ABX9TyOCFxbUOMCFDtJFAlfi0lKP",
      "include_colab_link": true
    },
    "kernelspec": {
      "name": "python3",
      "display_name": "Python 3"
    },
    "accelerator": "GPU"
  },
  "cells": [
    {
      "cell_type": "markdown",
      "metadata": {
        "id": "view-in-github",
        "colab_type": "text"
      },
      "source": [
        "<a href=\"https://colab.research.google.com/github/dileeppj/TSAI_EVA/blob/master/Phase_2/Session_1/Phase2_Session1_NeuralWordEmbedding.ipynb\" target=\"_parent\"><img src=\"https://colab.research.google.com/assets/colab-badge.svg\" alt=\"Open In Colab\"/></a>"
      ]
    },
    {
      "cell_type": "markdown",
      "metadata": {
        "id": "gyfjb06BCWQa",
        "colab_type": "text"
      },
      "source": [
        "# Deep learning for text and sequences"
      ]
    },
    {
      "cell_type": "markdown",
      "metadata": {
        "id": "DflzouMxGHET",
        "colab_type": "text"
      },
      "source": [
        "## **Word-level** and **Character-level** one-hot encoding - `[Obsolete]`\n",
        "One-hot encoding is the most common, most basics way to turn a token into a vector. It consists of associating a unique integer index with every word and then turning this integer index i into a binary vector of size N (the size of the vocabulary); the vector is all zeros except for the $i^{th}$ entry, which is 1.\n",
        "\n",
        "*One-hot encoding can be done at word level and character level as shown in below examples.*"
      ]
    },
    {
      "cell_type": "markdown",
      "metadata": {
        "id": "5QkOsBiphq_T",
        "colab_type": "text"
      },
      "source": [
        "`Character-level one-hot encoding`"
      ]
    },
    {
      "cell_type": "code",
      "metadata": {
        "id": "q2lf7NEMGKml",
        "colab_type": "code",
        "colab": {}
      },
      "source": [
        "import numpy as np\n",
        "samples = ['The cat sat on the mat.', 'The dog ate my homework.']               # Initial data: one entry per sample (in this example, a sample is a sentence, but it could be an entire document)\n",
        "token_index = {}                                                                # Builds an index of all tokens in the data.\n",
        "for sample in samples:\n",
        "  for word in sample.split():                                                   # Tokenizes the samples via the split method. In real life, you’d also strip punctuation and special characters from the samples.\n",
        "    if word not in token_index:\n",
        "      token_index[word] = len(token_index) + 1                                  # Assigns a unique index to each unique word. Note that you don’t attribute index 0 to anything.\n",
        "max_length = 10                                                                 # Vectorizes the samples. You’ll only consider the first max_length words in each sample.\n",
        "results = np.zeros(shape = (len(samples),                                       # This is where you store the results.\n",
        "                            max_length, \n",
        "                            max(token_index.values()) + 1))\n",
        "for i, sample in enumerate(samples):\n",
        "  for j, word in list(enumerate(sample.split()))[:max_length]:\n",
        "    index = token_index.get(word)\n",
        "    results[i, j, index] = 1."
      ],
      "execution_count": 0,
      "outputs": []
    },
    {
      "cell_type": "code",
      "metadata": {
        "id": "1zFUiB6PHeXg",
        "colab_type": "code",
        "outputId": "7b7563a6-c8d7-45f4-c173-295695530c67",
        "colab": {
          "base_uri": "https://localhost:8080/",
          "height": 185
        }
      },
      "source": [
        "token_index"
      ],
      "execution_count": 0,
      "outputs": [
        {
          "output_type": "execute_result",
          "data": {
            "text/plain": [
              "{'The': 1,\n",
              " 'ate': 8,\n",
              " 'cat': 2,\n",
              " 'dog': 7,\n",
              " 'homework.': 10,\n",
              " 'mat.': 6,\n",
              " 'my': 9,\n",
              " 'on': 4,\n",
              " 'sat': 3,\n",
              " 'the': 5}"
            ]
          },
          "metadata": {
            "tags": []
          },
          "execution_count": 10
        }
      ]
    },
    {
      "cell_type": "markdown",
      "metadata": {
        "id": "iWgLHeu3HPxr",
        "colab_type": "text"
      },
      "source": [
        "`Character-level one-hot encoding`"
      ]
    },
    {
      "cell_type": "code",
      "metadata": {
        "id": "z2xPHllLHQV3",
        "colab_type": "code",
        "colab": {}
      },
      "source": [
        "import string\n",
        "samples = ['The cat sat on the mat.', 'The dog ate my homework.']\n",
        "characters = string.printable                                                   # All printable ASCII characters\n",
        "token_index = dict(zip(range(1, len(characters) + 1), characters))\n",
        "max_length = 50\n",
        "results = np.zeros((len(samples), max_length, max(token_index.keys()) + 1))\n",
        "for i, sample in enumerate(samples):\n",
        "  for j, character in enumerate(sample):\n",
        "    index = token_index.get(character)\n",
        "    results[i, j, index] = 1."
      ],
      "execution_count": 0,
      "outputs": []
    },
    {
      "cell_type": "code",
      "metadata": {
        "id": "q83fXxmxJG5Z",
        "colab_type": "code",
        "outputId": "c7c6a5be-28e0-4c54-ec4f-04801b6d26d0",
        "colab": {
          "base_uri": "https://localhost:8080/",
          "height": 70
        }
      },
      "source": [
        "print('Token Index : ',token_index)\n",
        "print('Results.shape : ',results.shape)"
      ],
      "execution_count": 0,
      "outputs": [
        {
          "output_type": "stream",
          "text": [
            "Token Index :  {1: '0', 2: '1', 3: '2', 4: '3', 5: '4', 6: '5', 7: '6', 8: '7', 9: '8', 10: '9', 11: 'a', 12: 'b', 13: 'c', 14: 'd', 15: 'e', 16: 'f', 17: 'g', 18: 'h', 19: 'i', 20: 'j', 21: 'k', 22: 'l', 23: 'm', 24: 'n', 25: 'o', 26: 'p', 27: 'q', 28: 'r', 29: 's', 30: 't', 31: 'u', 32: 'v', 33: 'w', 34: 'x', 35: 'y', 36: 'z', 37: 'A', 38: 'B', 39: 'C', 40: 'D', 41: 'E', 42: 'F', 43: 'G', 44: 'H', 45: 'I', 46: 'J', 47: 'K', 48: 'L', 49: 'M', 50: 'N', 51: 'O', 52: 'P', 53: 'Q', 54: 'R', 55: 'S', 56: 'T', 57: 'U', 58: 'V', 59: 'W', 60: 'X', 61: 'Y', 62: 'Z', 63: '!', 64: '\"', 65: '#', 66: '$', 67: '%', 68: '&', 69: \"'\", 70: '(', 71: ')', 72: '*', 73: '+', 74: ',', 75: '-', 76: '.', 77: '/', 78: ':', 79: ';', 80: '<', 81: '=', 82: '>', 83: '?', 84: '@', 85: '[', 86: '\\\\', 87: ']', 88: '^', 89: '_', 90: '`', 91: '{', 92: '|', 93: '}', 94: '~', 95: ' ', 96: '\\t', 97: '\\n', 98: '\\r', 99: '\\x0b', 100: '\\x0c'}\n",
            "Results.shape :  (2, 50, 101)\n"
          ],
          "name": "stdout"
        }
      ]
    },
    {
      "cell_type": "markdown",
      "metadata": {
        "id": "3aimvBHKirLm",
        "colab_type": "text"
      },
      "source": [
        "As Keras has built-in utilities for one-hot encoding text data at the word level or character level. Use these utilities as they take care of a number of important features such as stripping special characters from strings and only taking into account the N most common words in your dataset.\n",
        "\n",
        "`Using Keras for word-level one-hot encoding`"
      ]
    },
    {
      "cell_type": "code",
      "metadata": {
        "id": "c3oCzaWRiqmr",
        "colab_type": "code",
        "outputId": "2e0446ce-8345-438d-e7c8-f1af3fa8c8fd",
        "colab": {
          "base_uri": "https://localhost:8080/",
          "height": 50
        }
      },
      "source": [
        "from keras.preprocessing.text import Tokenizer\n",
        "samples = ['The cat sat on the mat.', 'The dog ate my homework.']\n",
        "tokenizer = Tokenizer(num_words=1000)                                           # Creates a tokenizer, configured to only take into account the 1,000 most common words\n",
        "tokenizer.fit_on_texts(samples)                                                 # Builds the word index\n",
        "sequences = tokenizer.texts_to_sequences(samples)                               # Turns strings into lists of integer indices\n",
        "one_hot_results = tokenizer.texts_to_matrix(samples, mode='binary')             # You could also directly get the one-hot binary representations. Vectorization modes other than one-hot encoding are supported by this tokenizer.\n",
        "word_index = tokenizer.word_index                                               # Word indeces that was computed\n",
        "print('Found %s unique tokens.' % len(word_index))\n",
        "print('Word Indeces : ',word_index)"
      ],
      "execution_count": 0,
      "outputs": [
        {
          "output_type": "stream",
          "text": [
            "Found 9 unique tokens.\n",
            "Word Indeces :  {'the': 1, 'cat': 2, 'sat': 3, 'on': 4, 'mat': 5, 'dog': 6, 'ate': 7, 'my': 8, 'homework': 9}\n"
          ],
          "name": "stdout"
        }
      ]
    },
    {
      "cell_type": "markdown",
      "metadata": {
        "id": "nXnMTYOgkk0Y",
        "colab_type": "text"
      },
      "source": [
        "`Word-level one-hot encoding with hashing trick`"
      ]
    },
    {
      "cell_type": "code",
      "metadata": {
        "id": "uHj8CAbXko8F",
        "colab_type": "code",
        "colab": {}
      },
      "source": [
        "samples = ['The cat sat on the mat.', 'The dog ate my homework.']\n",
        "dimensionality = 1000                                                           # Stores the words as vectors of size 1,000. If you have close to 1,000 words (or more), you’ll see many hash collisions, which will decrease the accuracy of this encoding method.\n",
        "max_length = 10\n",
        "results = np.zeros((len(samples), max_length, dimensionality))\n",
        "for i, sample in enumerate(samples):\n",
        "  for j, word in list(enumerate(sample.split()))[:max_length]: \n",
        "    index = abs(hash(word)) % dimensionality                                    # Hashes the word into a random integer index between 0 and 1,000\n",
        "    results[i, j, index] = 1."
      ],
      "execution_count": 0,
      "outputs": []
    },
    {
      "cell_type": "markdown",
      "metadata": {
        "id": "t_UttCHGld1L",
        "colab_type": "text"
      },
      "source": [
        "## Using Word Embeddings - `[Current]`\n",
        "A popular and powerful way to associate a vector with a word is the use of dense word vectors, also called word embeddings. Whereas the vectors obtained through one-hot encoding are binary, sparse (mostly made of zeros), and very high-dimensional (same dimensionality as the number of words in the vocabulary), word embeddings are low-dimensional floating-point vectors (that is, dense vectors, as opposed to sparse vectors)"
      ]
    },
    {
      "cell_type": "markdown",
      "metadata": {
        "id": "2Ynr5g9XTX0U",
        "colab_type": "text"
      },
      "source": [
        "### Pre-Requisites "
      ]
    },
    {
      "cell_type": "markdown",
      "metadata": {
        "id": "v6YiqbG-Ifg6",
        "colab_type": "text"
      },
      "source": [
        "*Code to Mount Google Drive*"
      ]
    },
    {
      "cell_type": "code",
      "metadata": {
        "id": "KuMgPeEeIp1r",
        "colab_type": "code",
        "outputId": "0dabd3b2-052a-453e-eccd-c45f26a467cd",
        "colab": {
          "base_uri": "https://localhost:8080/",
          "height": 121
        }
      },
      "source": [
        "from google.colab import drive\n",
        "drive.mount('/content/drive')"
      ],
      "execution_count": 1,
      "outputs": [
        {
          "output_type": "stream",
          "text": [
            "Go to this URL in a browser: https://accounts.google.com/o/oauth2/auth?client_id=947318989803-6bn6qk8qdgf4n4g3pfee6491hc0brc4i.apps.googleusercontent.com&redirect_uri=urn%3aietf%3awg%3aoauth%3a2.0%3aoob&response_type=code&scope=email%20https%3a%2f%2fwww.googleapis.com%2fauth%2fdocs.test%20https%3a%2f%2fwww.googleapis.com%2fauth%2fdrive%20https%3a%2f%2fwww.googleapis.com%2fauth%2fdrive.photos.readonly%20https%3a%2f%2fwww.googleapis.com%2fauth%2fpeopleapi.readonly\n",
            "\n",
            "Enter your authorization code:\n",
            "··········\n",
            "Mounted at /content/drive\n"
          ],
          "name": "stdout"
        }
      ]
    },
    {
      "cell_type": "markdown",
      "metadata": {
        "id": "evFj6iSsNEtG",
        "colab_type": "text"
      },
      "source": [
        "*To Extract .zip file*"
      ]
    },
    {
      "cell_type": "code",
      "metadata": {
        "id": "cdSxnKaINDwO",
        "colab_type": "code",
        "colab": {}
      },
      "source": [
        "%%capture\n",
        "!unzip \"/content/drive/My Drive/TSAI_EVA/Phase_2/P2_S1_IMDB_RawData/aclImdb.zip\" -d \"/content/drive/My Drive/TSAI_EVA/Phase_2/P2_S1_IMDB_RawData/\" -x \"__MACOSX/*\""
      ],
      "execution_count": 0,
      "outputs": []
    },
    {
      "cell_type": "markdown",
      "metadata": {
        "id": "F_DdvQRwl23F",
        "colab_type": "text"
      },
      "source": [
        "## "
      ]
    },
    {
      "cell_type": "markdown",
      "metadata": {
        "id": "8y9_s25ZkYFf",
        "colab_type": "text"
      },
      "source": [
        "IMDB movie-review sentiment-prediction"
      ]
    },
    {
      "cell_type": "markdown",
      "metadata": {
        "id": "2a4ta0nnmOEe",
        "colab_type": "text"
      },
      "source": [
        "### Learning word embeddings with the embedding layer"
      ]
    },
    {
      "cell_type": "markdown",
      "metadata": {
        "id": "zVnsaEOLftqL",
        "colab_type": "text"
      },
      "source": [
        "Instantiating an Embedding layer\n",
        "\n",
        "When you instantiate an Embedding layer, its weights (its internal dictionary of token vectors) are initially random, just as with any other layer. During training, these word vectors are gradually adjusted via backpropagation, structuring the space into something the downstream model can exploit. Once fully trained, the embedding space will show a lot of structure—a kind of structure specialized for the specific problem for which you’re training your model.\n",
        "\n",
        "The Embedding layer is best understood as a dictionary that maps integer indices\n",
        "(which stand for specific words) to dense vectors. It takes integers as input, it looks up these integers in an internal dictionary, and it returns the associated vectors."
      ]
    },
    {
      "cell_type": "code",
      "metadata": {
        "id": "35m-3nZVesKl",
        "colab_type": "code",
        "outputId": "73e0eb15-ad04-459e-b121-69d7685e46c1",
        "colab": {
          "base_uri": "https://localhost:8080/",
          "height": 133
        }
      },
      "source": [
        "from keras.layers import Embedding\n",
        "embedding_layer = Embedding(1000, 64)                                           #The Embedding layer takes at least two arguments: the number of possible tokens \n",
        "                                                                                # (here, 1,000: 1 + maximum word index) and the dimensionality of the embeddings (here, 64).\n",
        "                                                                                #The Embedding layer takes as input a 2D tensor of integers, of shape (samples, sequence_length)\n",
        "                                                                                # and returns a 3D floating-point tensor of shape (samples, sequence_length, embedding_dimensionality)."
      ],
      "execution_count": 0,
      "outputs": [
        {
          "output_type": "stream",
          "text": [
            "Using TensorFlow backend.\n"
          ],
          "name": "stderr"
        },
        {
          "output_type": "display_data",
          "data": {
            "text/html": [
              "<p style=\"color: red;\">\n",
              "The default version of TensorFlow in Colab will soon switch to TensorFlow 2.x.<br>\n",
              "We recommend you <a href=\"https://www.tensorflow.org/guide/migrate\" target=\"_blank\">upgrade</a> now \n",
              "or ensure your notebook will continue to use TensorFlow 1.x via the <code>%tensorflow_version 1.x</code> magic:\n",
              "<a href=\"https://colab.research.google.com/notebooks/tensorflow_version.ipynb\" target=\"_blank\">more info</a>.</p>\n"
            ],
            "text/plain": [
              "<IPython.core.display.HTML object>"
            ]
          },
          "metadata": {
            "tags": []
          }
        },
        {
          "output_type": "stream",
          "text": [
            "WARNING:tensorflow:From /usr/local/lib/python3.6/dist-packages/keras/backend/tensorflow_backend.py:66: The name tf.get_default_graph is deprecated. Please use tf.compat.v1.get_default_graph instead.\n",
            "\n"
          ],
          "name": "stdout"
        }
      ]
    },
    {
      "cell_type": "markdown",
      "metadata": {
        "id": "g5LrGGKbkmTC",
        "colab_type": "text"
      },
      "source": [
        "Loading the IMDB data for use with an Embedding layer"
      ]
    },
    {
      "cell_type": "code",
      "metadata": {
        "id": "EGCxUG6xkZ2n",
        "colab_type": "code",
        "outputId": "a4c0a62b-493f-4c5e-cbd1-e5466661220e",
        "colab": {
          "base_uri": "https://localhost:8080/",
          "height": 50
        }
      },
      "source": [
        "from keras.datasets import imdb\n",
        "from keras import preprocessing\n",
        "max_features = 10000\n",
        "maxlen = 20\n",
        "(x_train, y_train), (x_test, y_test) = imdb.load_data(num_words=max_features)\n",
        "x_train = preprocessing.sequence.pad_sequences(x_train, maxlen=maxlen)\n",
        "x_test = preprocessing.sequence.pad_sequences(x_test, maxlen=maxlen)"
      ],
      "execution_count": 0,
      "outputs": [
        {
          "output_type": "stream",
          "text": [
            "Downloading data from https://s3.amazonaws.com/text-datasets/imdb.npz\n",
            "17465344/17464789 [==============================] - 0s 0us/step\n"
          ],
          "name": "stdout"
        }
      ]
    },
    {
      "cell_type": "markdown",
      "metadata": {
        "id": "-UCe96DgkpYX",
        "colab_type": "text"
      },
      "source": [
        "Using an Embedding layer and classifier on the IMDB data"
      ]
    },
    {
      "cell_type": "code",
      "metadata": {
        "id": "t_o13A3Hkosw",
        "colab_type": "code",
        "outputId": "865bc2d5-f81e-4082-f54a-893bf4ad244a",
        "colab": {
          "base_uri": "https://localhost:8080/",
          "height": 1000
        }
      },
      "source": [
        "from keras.models import Sequential\n",
        "from keras.layers import Flatten, Dense\n",
        "model = Sequential()\n",
        "model.add(Embedding(10000, 8, input_length=maxlen))\n",
        "model.add(Flatten())\n",
        "model.add(Dense(1, activation='sigmoid'))\n",
        "model.compile(optimizer='rmsprop', loss='binary_crossentropy', metrics=['acc'])\n",
        "model.summary()\n",
        "history = model.fit(x_train, y_train, epochs=10, batch_size=32, validation_split=0.2)"
      ],
      "execution_count": 0,
      "outputs": [
        {
          "output_type": "stream",
          "text": [
            "WARNING:tensorflow:From /usr/local/lib/python3.6/dist-packages/keras/backend/tensorflow_backend.py:541: The name tf.placeholder is deprecated. Please use tf.compat.v1.placeholder instead.\n",
            "\n",
            "WARNING:tensorflow:From /usr/local/lib/python3.6/dist-packages/keras/backend/tensorflow_backend.py:4432: The name tf.random_uniform is deprecated. Please use tf.random.uniform instead.\n",
            "\n",
            "WARNING:tensorflow:From /usr/local/lib/python3.6/dist-packages/keras/optimizers.py:793: The name tf.train.Optimizer is deprecated. Please use tf.compat.v1.train.Optimizer instead.\n",
            "\n",
            "WARNING:tensorflow:From /usr/local/lib/python3.6/dist-packages/keras/backend/tensorflow_backend.py:3657: The name tf.log is deprecated. Please use tf.math.log instead.\n",
            "\n",
            "WARNING:tensorflow:From /usr/local/lib/python3.6/dist-packages/tensorflow_core/python/ops/nn_impl.py:183: where (from tensorflow.python.ops.array_ops) is deprecated and will be removed in a future version.\n",
            "Instructions for updating:\n",
            "Use tf.where in 2.0, which has the same broadcast rule as np.where\n",
            "Model: \"sequential_1\"\n",
            "_________________________________________________________________\n",
            "Layer (type)                 Output Shape              Param #   \n",
            "=================================================================\n",
            "embedding_2 (Embedding)      (None, 20, 8)             80000     \n",
            "_________________________________________________________________\n",
            "flatten_1 (Flatten)          (None, 160)               0         \n",
            "_________________________________________________________________\n",
            "dense_1 (Dense)              (None, 1)                 161       \n",
            "=================================================================\n",
            "Total params: 80,161\n",
            "Trainable params: 80,161\n",
            "Non-trainable params: 0\n",
            "_________________________________________________________________\n",
            "WARNING:tensorflow:From /usr/local/lib/python3.6/dist-packages/keras/backend/tensorflow_backend.py:1033: The name tf.assign_add is deprecated. Please use tf.compat.v1.assign_add instead.\n",
            "\n",
            "WARNING:tensorflow:From /usr/local/lib/python3.6/dist-packages/keras/backend/tensorflow_backend.py:1020: The name tf.assign is deprecated. Please use tf.compat.v1.assign instead.\n",
            "\n",
            "WARNING:tensorflow:From /usr/local/lib/python3.6/dist-packages/keras/backend/tensorflow_backend.py:3005: The name tf.Session is deprecated. Please use tf.compat.v1.Session instead.\n",
            "\n",
            "Train on 20000 samples, validate on 5000 samples\n",
            "Epoch 1/10\n",
            "WARNING:tensorflow:From /usr/local/lib/python3.6/dist-packages/keras/backend/tensorflow_backend.py:190: The name tf.get_default_session is deprecated. Please use tf.compat.v1.get_default_session instead.\n",
            "\n",
            "WARNING:tensorflow:From /usr/local/lib/python3.6/dist-packages/keras/backend/tensorflow_backend.py:197: The name tf.ConfigProto is deprecated. Please use tf.compat.v1.ConfigProto instead.\n",
            "\n",
            "WARNING:tensorflow:From /usr/local/lib/python3.6/dist-packages/keras/backend/tensorflow_backend.py:207: The name tf.global_variables is deprecated. Please use tf.compat.v1.global_variables instead.\n",
            "\n",
            "WARNING:tensorflow:From /usr/local/lib/python3.6/dist-packages/keras/backend/tensorflow_backend.py:216: The name tf.is_variable_initialized is deprecated. Please use tf.compat.v1.is_variable_initialized instead.\n",
            "\n",
            "WARNING:tensorflow:From /usr/local/lib/python3.6/dist-packages/keras/backend/tensorflow_backend.py:223: The name tf.variables_initializer is deprecated. Please use tf.compat.v1.variables_initializer instead.\n",
            "\n",
            "20000/20000 [==============================] - 2s 92us/step - loss: 0.6767 - acc: 0.6018 - val_loss: 0.6331 - val_acc: 0.6936\n",
            "Epoch 2/10\n",
            "20000/20000 [==============================] - 1s 67us/step - loss: 0.5526 - acc: 0.7511 - val_loss: 0.5288 - val_acc: 0.7302\n",
            "Epoch 3/10\n",
            "20000/20000 [==============================] - 1s 65us/step - loss: 0.4651 - acc: 0.7847 - val_loss: 0.5019 - val_acc: 0.7474\n",
            "Epoch 4/10\n",
            "20000/20000 [==============================] - 1s 65us/step - loss: 0.4234 - acc: 0.8084 - val_loss: 0.4948 - val_acc: 0.7480\n",
            "Epoch 5/10\n",
            "20000/20000 [==============================] - 1s 75us/step - loss: 0.3961 - acc: 0.8228 - val_loss: 0.4952 - val_acc: 0.7510\n",
            "Epoch 6/10\n",
            "20000/20000 [==============================] - 1s 67us/step - loss: 0.3743 - acc: 0.8341 - val_loss: 0.5000 - val_acc: 0.7550\n",
            "Epoch 7/10\n",
            "20000/20000 [==============================] - 1s 65us/step - loss: 0.3548 - acc: 0.8447 - val_loss: 0.5060 - val_acc: 0.7550\n",
            "Epoch 8/10\n",
            "20000/20000 [==============================] - 1s 68us/step - loss: 0.3362 - acc: 0.8558 - val_loss: 0.5118 - val_acc: 0.7532\n",
            "Epoch 9/10\n",
            "20000/20000 [==============================] - 1s 66us/step - loss: 0.3181 - acc: 0.8649 - val_loss: 0.5189 - val_acc: 0.7484\n",
            "Epoch 10/10\n",
            "20000/20000 [==============================] - 1s 66us/step - loss: 0.3006 - acc: 0.8741 - val_loss: 0.5249 - val_acc: 0.7508\n"
          ],
          "name": "stdout"
        }
      ]
    },
    {
      "cell_type": "markdown",
      "metadata": {
        "id": "TG7MRfBT0Fl_",
        "colab_type": "text"
      },
      "source": [
        "### USING PRETRAINED WORD EMBEDDINGS"
      ]
    },
    {
      "cell_type": "markdown",
      "metadata": {
        "id": "zHcywtCG3vnP",
        "colab_type": "text"
      },
      "source": [
        "#### DOWNLOADING THE IMDB DATA AS RAW TEXT\n",
        "1. Download the raw IMDB dataset from http://mng.bz/0tIo and uncompress it.\n",
        "2. Collect the individual training reviews into a list of strings, one string per review, and also collect the review labels (positive/negative) into a labels list."
      ]
    },
    {
      "cell_type": "markdown",
      "metadata": {
        "id": "yZCZpFEG_ePI",
        "colab_type": "text"
      },
      "source": [
        "Processing the labels of the raw IMDB data"
      ]
    },
    {
      "cell_type": "code",
      "metadata": {
        "id": "1fR7JP9x0K4_",
        "colab_type": "code",
        "colab": {}
      },
      "source": [
        "import os\n",
        "imdb_dir = '/content/drive/My Drive/TSAI_EVA/Phase_2/P2_S1_IMDB_RawData/aclImdb/'\n",
        "train_dir = os.path.join(imdb_dir, 'train')\n",
        "labels = []\n",
        "texts = []\n",
        "for label_type in ['neg', 'pos']:\n",
        "  dir_name = os.path.join(train_dir, label_type)\n",
        "  for fname in os.listdir(dir_name):\n",
        "    if fname[-4:] == '.txt':\n",
        "      f = open(os.path.join(dir_name, fname))\n",
        "      texts.append(f.read())\n",
        "      f.close()\n",
        "      if label_type == 'neg':\n",
        "        labels.append(0)\n",
        "      else:\n",
        "        labels.append(1)"
      ],
      "execution_count": 0,
      "outputs": []
    },
    {
      "cell_type": "markdown",
      "metadata": {
        "id": "IMroBhc6AHHf",
        "colab_type": "text"
      },
      "source": [
        "Tokenizing the text of the raw IMDB data"
      ]
    },
    {
      "cell_type": "code",
      "metadata": {
        "id": "hvkWw-KAAILc",
        "colab_type": "code",
        "colab": {
          "base_uri": "https://localhost:8080/",
          "height": 130
        },
        "outputId": "f1b7a307-59cd-4f9c-b75e-00c35dac717b"
      },
      "source": [
        "from keras.preprocessing.text import Tokenizer\n",
        "from keras.preprocessing.sequence import pad_sequences\n",
        "import numpy as np\n",
        "maxlen = 100                                                                    # Cuts off reviews after 100 words\n",
        "training_samples = 8000                                                         # Trains on 8000 samples\n",
        "validation_samples = 10000                                                      # Validates on 10,000 samples\n",
        "max_words = 10000                                                               # Considers only the top 10,000 words in the dataset\n",
        "tokenizer = Tokenizer(num_words=max_words)\n",
        "tokenizer.fit_on_texts(texts)\n",
        "sequences = tokenizer.texts_to_sequences(texts)\n",
        "word_index = tokenizer.word_index\n",
        "print('Found %s unique tokens.' % len(word_index))\n",
        "data = pad_sequences(sequences, maxlen=maxlen)\n",
        "labels = np.asarray(labels)\n",
        "print('Shape of data tensor:', data.shape)\n",
        "print('Shape of label tensor:', labels.shape)\n",
        "indices = np.arange(data.shape[0])                                              # Splits the data into a training set and a validation set, but first shuffles the data, because you’re starting with data in which samples are ordered (all negative first, then all positive)\n",
        "np.random.shuffle(indices)\n",
        "data = data[indices]\n",
        "labels = labels[indices]\n",
        "x_train = data[:training_samples]\n",
        "y_train = labels[:training_samples]\n",
        "x_val = data[training_samples: training_samples + validation_samples]\n",
        "y_val = labels[training_samples: training_samples + validation_samples]"
      ],
      "execution_count": 4,
      "outputs": [
        {
          "output_type": "stream",
          "text": [
            "Using TensorFlow backend.\n"
          ],
          "name": "stderr"
        },
        {
          "output_type": "display_data",
          "data": {
            "text/html": [
              "<p style=\"color: red;\">\n",
              "The default version of TensorFlow in Colab will soon switch to TensorFlow 2.x.<br>\n",
              "We recommend you <a href=\"https://www.tensorflow.org/guide/migrate\" target=\"_blank\">upgrade</a> now \n",
              "or ensure your notebook will continue to use TensorFlow 1.x via the <code>%tensorflow_version 1.x</code> magic:\n",
              "<a href=\"https://colab.research.google.com/notebooks/tensorflow_version.ipynb\" target=\"_blank\">more info</a>.</p>\n"
            ],
            "text/plain": [
              "<IPython.core.display.HTML object>"
            ]
          },
          "metadata": {
            "tags": []
          }
        },
        {
          "output_type": "stream",
          "text": [
            "Found 88582 unique tokens.\n",
            "Shape of data tensor: (25000, 100)\n",
            "Shape of label tensor: (25000,)\n"
          ],
          "name": "stdout"
        }
      ]
    },
    {
      "cell_type": "markdown",
      "metadata": {
        "id": "uu1tQzkHCetJ",
        "colab_type": "text"
      },
      "source": [
        "#### DOWNLOADING THE GLOVE WORD EMBEDDINGS\n",
        "Download the precomputed embeddings of 2014 English Wikipedia from https://nlp.stanford.edu/projects/glove\n",
        "\n",
        "##### PREPROCESSING THE EMBEDDINGS\n",
        "\n",
        "Let’s parse the unzipped file (a .txt file) to build an index that maps words (as strings) to their vector representation (as number vectors)."
      ]
    },
    {
      "cell_type": "markdown",
      "metadata": {
        "id": "tSH7o_n3Da5O",
        "colab_type": "text"
      },
      "source": [
        "Parsing the GloVe word-embeddings file"
      ]
    },
    {
      "cell_type": "code",
      "metadata": {
        "id": "4PVwGHnaDb86",
        "colab_type": "code",
        "outputId": "273c37ca-dc35-4314-bcba-e14d9eada3c1",
        "colab": {
          "base_uri": "https://localhost:8080/",
          "height": 34
        }
      },
      "source": [
        "glove_dir = '/content/drive/My Drive/TSAI_EVA/Phase_2/P2_S1_IMDB_RawData/'\n",
        "embeddings_index = {}\n",
        "f = open(os.path.join(glove_dir, 'glove.6B.100d.txt'))\n",
        "for line in f:\n",
        "  values = line.split()\n",
        "  word = values[0]\n",
        "  coefs = np.asarray(values[1:], dtype='float32')\n",
        "  embeddings_index[word] = coefs\n",
        "f.close()\n",
        "print('Found %s word vectors.' % len(embeddings_index))"
      ],
      "execution_count": 5,
      "outputs": [
        {
          "output_type": "stream",
          "text": [
            "Found 400000 word vectors.\n"
          ],
          "name": "stdout"
        }
      ]
    },
    {
      "cell_type": "markdown",
      "metadata": {
        "id": "kH_Ct1oFFoOS",
        "colab_type": "text"
      },
      "source": [
        "Preparing the GloVe word-embeddings matrix"
      ]
    },
    {
      "cell_type": "code",
      "metadata": {
        "id": "r_MfmfesFpTn",
        "colab_type": "code",
        "colab": {}
      },
      "source": [
        "embedding_dim = 100\n",
        "embedding_matrix = np.zeros((max_words, embedding_dim))\n",
        "for word, i in word_index.items():\n",
        "  if i < max_words:\n",
        "    embedding_vector = embeddings_index.get(word)\n",
        "    if embedding_vector is not None:\n",
        "      embedding_matrix[i] = embedding_vector                                      # Words not found in the embedding index will be all zeros."
      ],
      "execution_count": 0,
      "outputs": []
    },
    {
      "cell_type": "markdown",
      "metadata": {
        "id": "w81Qfs58F1jl",
        "colab_type": "text"
      },
      "source": [
        "DEFINING A MODEL"
      ]
    },
    {
      "cell_type": "code",
      "metadata": {
        "id": "U9oYXoPVF5js",
        "colab_type": "code",
        "outputId": "7c4e5538-3f6b-422c-adaf-3bc771b7b0c1",
        "colab": {
          "base_uri": "https://localhost:8080/",
          "height": 406
        }
      },
      "source": [
        "from keras.models import Sequential\n",
        "from keras.layers import Embedding, Flatten, Dense\n",
        "model = Sequential()\n",
        "model.add(Embedding(max_words, embedding_dim, input_length=maxlen))\n",
        "model.add(Flatten())\n",
        "model.add(Dense(32, activation='relu'))\n",
        "model.add(Dense(1, activation='sigmoid'))\n",
        "model.summary()"
      ],
      "execution_count": 7,
      "outputs": [
        {
          "output_type": "stream",
          "text": [
            "WARNING:tensorflow:From /usr/local/lib/python3.6/dist-packages/keras/backend/tensorflow_backend.py:66: The name tf.get_default_graph is deprecated. Please use tf.compat.v1.get_default_graph instead.\n",
            "\n",
            "WARNING:tensorflow:From /usr/local/lib/python3.6/dist-packages/keras/backend/tensorflow_backend.py:541: The name tf.placeholder is deprecated. Please use tf.compat.v1.placeholder instead.\n",
            "\n",
            "WARNING:tensorflow:From /usr/local/lib/python3.6/dist-packages/keras/backend/tensorflow_backend.py:4432: The name tf.random_uniform is deprecated. Please use tf.random.uniform instead.\n",
            "\n",
            "Model: \"sequential_1\"\n",
            "_________________________________________________________________\n",
            "Layer (type)                 Output Shape              Param #   \n",
            "=================================================================\n",
            "embedding_1 (Embedding)      (None, 100, 100)          1000000   \n",
            "_________________________________________________________________\n",
            "flatten_1 (Flatten)          (None, 10000)             0         \n",
            "_________________________________________________________________\n",
            "dense_1 (Dense)              (None, 32)                320032    \n",
            "_________________________________________________________________\n",
            "dense_2 (Dense)              (None, 1)                 33        \n",
            "=================================================================\n",
            "Total params: 1,320,065\n",
            "Trainable params: 1,320,065\n",
            "Non-trainable params: 0\n",
            "_________________________________________________________________\n"
          ],
          "name": "stdout"
        }
      ]
    },
    {
      "cell_type": "markdown",
      "metadata": {
        "id": "rkeAg_0qF8Lh",
        "colab_type": "text"
      },
      "source": [
        "LOADING THE GLOVE EMBEDDINGS IN THE MODEL\n",
        "\n",
        "The Embedding layer has a single weight matrix: a 2D float matrix where each entry i is the word vector meant to be associated with index i. Simple enough. Load the GloVe matrix you prepared into the Embedding layer, the first layer in the model."
      ]
    },
    {
      "cell_type": "markdown",
      "metadata": {
        "id": "mK2FgUqdGSu_",
        "colab_type": "text"
      },
      "source": [
        "Loading pretrained word embeddings into the Embedding layer"
      ]
    },
    {
      "cell_type": "code",
      "metadata": {
        "id": "Ied9LD-nF_BI",
        "colab_type": "code",
        "colab": {
          "base_uri": "https://localhost:8080/",
          "height": 238
        },
        "outputId": "1869f23f-769b-4188-a1c1-2ad1f892cc0d"
      },
      "source": [
        "model.layers[0].set_weights([embedding_matrix])\n",
        "model.layers[0].trainable = False"
      ],
      "execution_count": 8,
      "outputs": [
        {
          "output_type": "stream",
          "text": [
            "WARNING:tensorflow:From /usr/local/lib/python3.6/dist-packages/keras/backend/tensorflow_backend.py:190: The name tf.get_default_session is deprecated. Please use tf.compat.v1.get_default_session instead.\n",
            "\n",
            "WARNING:tensorflow:From /usr/local/lib/python3.6/dist-packages/keras/backend/tensorflow_backend.py:197: The name tf.ConfigProto is deprecated. Please use tf.compat.v1.ConfigProto instead.\n",
            "\n",
            "WARNING:tensorflow:From /usr/local/lib/python3.6/dist-packages/keras/backend/tensorflow_backend.py:203: The name tf.Session is deprecated. Please use tf.compat.v1.Session instead.\n",
            "\n",
            "WARNING:tensorflow:From /usr/local/lib/python3.6/dist-packages/keras/backend/tensorflow_backend.py:207: The name tf.global_variables is deprecated. Please use tf.compat.v1.global_variables instead.\n",
            "\n",
            "WARNING:tensorflow:From /usr/local/lib/python3.6/dist-packages/keras/backend/tensorflow_backend.py:216: The name tf.is_variable_initialized is deprecated. Please use tf.compat.v1.is_variable_initialized instead.\n",
            "\n",
            "WARNING:tensorflow:From /usr/local/lib/python3.6/dist-packages/keras/backend/tensorflow_backend.py:223: The name tf.variables_initializer is deprecated. Please use tf.compat.v1.variables_initializer instead.\n",
            "\n"
          ],
          "name": "stdout"
        }
      ]
    },
    {
      "cell_type": "markdown",
      "metadata": {
        "id": "-AYY9f5xHhyI",
        "colab_type": "text"
      },
      "source": [
        "TRAINING AND EVALUATING THE MODEL"
      ]
    },
    {
      "cell_type": "code",
      "metadata": {
        "id": "xUT4SHNIHix5",
        "colab_type": "code",
        "colab": {
          "base_uri": "https://localhost:8080/",
          "height": 370
        },
        "outputId": "303c99c8-fc20-4e01-d252-978d89775b67"
      },
      "source": [
        "model.compile(optimizer='rmsprop', loss='binary_crossentropy', metrics=['acc'])\n",
        "history = model.fit(x_train, y_train, epochs=10, batch_size=32, validation_data=(x_val, y_val))\n",
        "model.save_weights('/content/drive/My Drive/TSAI_EVA/Phase_2/P2_S1_IMDB_RawData/pre_trained_glove_model.h5')"
      ],
      "execution_count": 11,
      "outputs": [
        {
          "output_type": "stream",
          "text": [
            "Train on 8000 samples, validate on 10000 samples\n",
            "Epoch 1/10\n",
            "8000/8000 [==============================] - 2s 242us/step - loss: 0.1347 - acc: 0.9533 - val_loss: 1.0329 - val_acc: 0.6753\n",
            "Epoch 2/10\n",
            "8000/8000 [==============================] - 2s 216us/step - loss: 0.0966 - acc: 0.9670 - val_loss: 1.2157 - val_acc: 0.6748\n",
            "Epoch 3/10\n",
            "8000/8000 [==============================] - 2s 208us/step - loss: 0.0798 - acc: 0.9726 - val_loss: 1.5684 - val_acc: 0.6492\n",
            "Epoch 4/10\n",
            "8000/8000 [==============================] - 2s 211us/step - loss: 0.0623 - acc: 0.9789 - val_loss: 1.2831 - val_acc: 0.6877\n",
            "Epoch 5/10\n",
            "8000/8000 [==============================] - 2s 217us/step - loss: 0.0558 - acc: 0.9834 - val_loss: 1.4290 - val_acc: 0.6813\n",
            "Epoch 6/10\n",
            "8000/8000 [==============================] - 2s 225us/step - loss: 0.0407 - acc: 0.9868 - val_loss: 1.3852 - val_acc: 0.6853\n",
            "Epoch 7/10\n",
            "8000/8000 [==============================] - 2s 217us/step - loss: 0.0312 - acc: 0.9889 - val_loss: 1.5096 - val_acc: 0.6883\n",
            "Epoch 8/10\n",
            "8000/8000 [==============================] - 2s 228us/step - loss: 0.0313 - acc: 0.9909 - val_loss: 1.5498 - val_acc: 0.6849\n",
            "Epoch 9/10\n",
            "8000/8000 [==============================] - 2s 224us/step - loss: 0.0306 - acc: 0.9910 - val_loss: 1.6178 - val_acc: 0.6833\n",
            "Epoch 10/10\n",
            "8000/8000 [==============================] - 2s 205us/step - loss: 0.0257 - acc: 0.9925 - val_loss: 1.7110 - val_acc: 0.6850\n"
          ],
          "name": "stdout"
        }
      ]
    },
    {
      "cell_type": "markdown",
      "metadata": {
        "id": "dSexmAKWHz22",
        "colab_type": "text"
      },
      "source": [
        "Plotting the results"
      ]
    },
    {
      "cell_type": "code",
      "metadata": {
        "id": "Wfb6ymBEH0pE",
        "colab_type": "code",
        "outputId": "4fd64c4a-767a-4650-fb0a-4bcb635b6c00",
        "colab": {
          "base_uri": "https://localhost:8080/",
          "height": 545
        }
      },
      "source": [
        "import matplotlib.pyplot as plt\n",
        "acc = history.history['acc']\n",
        "val_acc = history.history['val_acc']\n",
        "loss = history.history['loss']\n",
        "val_loss = history.history['val_loss']\n",
        "epochs = range(1, len(acc) + 1)\n",
        "plt.plot(epochs, acc, 'bo', label='Training acc')\n",
        "plt.plot(epochs, val_acc, 'b', label='Validation acc')\n",
        "plt.title('Training and validation accuracy')\n",
        "plt.legend()\n",
        "plt.figure()\n",
        "plt.plot(epochs, loss, 'bo', label='Training loss')\n",
        "plt.plot(epochs, val_loss, 'b', label='Validation loss')\n",
        "plt.title('Training and validation loss')\n",
        "plt.legend()\n",
        "plt.show()"
      ],
      "execution_count": 12,
      "outputs": [
        {
          "output_type": "display_data",
          "data": {
            "image/png": "[encoded data removed]",
            "text/plain": [
              "<Figure size 432x288 with 1 Axes>"
            ]
          },
          "metadata": {
            "tags": []
          }
        },
        {
          "output_type": "display_data",
          "data": {
            "image/png": "[encoded data removed]",
            "text/plain": [
              "<Figure size 432x288 with 1 Axes>"
            ]
          },
          "metadata": {
            "tags": []
          }
        }
      ]
    },
    {
      "cell_type": "markdown",
      "metadata": {
        "id": "Dob13O2gvXft",
        "colab_type": "text"
      },
      "source": [
        "### Training the same model without pretrained word embeddings"
      ]
    },
    {
      "cell_type": "code",
      "metadata": {
        "id": "S79j9dKFvc29",
        "colab_type": "code",
        "outputId": "a58478a1-d6f3-435d-e918-144869c4bef3",
        "colab": {
          "base_uri": "https://localhost:8080/",
          "height": 638
        }
      },
      "source": [
        "from keras.models import Sequential\n",
        "from keras.layers import Embedding, Flatten, Dense\n",
        "model = Sequential()\n",
        "model.add(Embedding(max_words, embedding_dim, input_length=maxlen))\n",
        "model.add(Flatten())\n",
        "model.add(Dense(32, activation='relu'))\n",
        "model.add(Dense(1, activation='sigmoid'))\n",
        "model.summary()\n",
        "model.compile(optimizer='rmsprop',\n",
        "loss='binary_crossentropy',\n",
        "metrics=['acc'])\n",
        "history = model.fit(x_train, y_train,\n",
        "epochs=10,\n",
        "batch_size=32,\n",
        "validation_data=(x_val, y_val))"
      ],
      "execution_count": 13,
      "outputs": [
        {
          "output_type": "stream",
          "text": [
            "Model: \"sequential_2\"\n",
            "_________________________________________________________________\n",
            "Layer (type)                 Output Shape              Param #   \n",
            "=================================================================\n",
            "embedding_2 (Embedding)      (None, 100, 100)          1000000   \n",
            "_________________________________________________________________\n",
            "flatten_2 (Flatten)          (None, 10000)             0         \n",
            "_________________________________________________________________\n",
            "dense_3 (Dense)              (None, 32)                320032    \n",
            "_________________________________________________________________\n",
            "dense_4 (Dense)              (None, 1)                 33        \n",
            "=================================================================\n",
            "Total params: 1,320,065\n",
            "Trainable params: 1,320,065\n",
            "Non-trainable params: 0\n",
            "_________________________________________________________________\n",
            "Train on 8000 samples, validate on 10000 samples\n",
            "Epoch 1/10\n",
            "8000/8000 [==============================] - 2s 257us/step - loss: 0.5357 - acc: 0.7177 - val_loss: 0.3996 - val_acc: 0.8169\n",
            "Epoch 2/10\n",
            "8000/8000 [==============================] - 2s 234us/step - loss: 0.1385 - acc: 0.9541 - val_loss: 0.4350 - val_acc: 0.8159\n",
            "Epoch 3/10\n",
            "8000/8000 [==============================] - 2s 222us/step - loss: 0.0105 - acc: 0.9978 - val_loss: 0.5743 - val_acc: 0.8140\n",
            "Epoch 4/10\n",
            "8000/8000 [==============================] - 2s 236us/step - loss: 4.4796e-04 - acc: 1.0000 - val_loss: 0.7248 - val_acc: 0.8172\n",
            "Epoch 5/10\n",
            "8000/8000 [==============================] - 2s 224us/step - loss: 2.6121e-05 - acc: 1.0000 - val_loss: 0.8641 - val_acc: 0.8133\n",
            "Epoch 6/10\n",
            "8000/8000 [==============================] - 2s 228us/step - loss: 4.5640e-07 - acc: 1.0000 - val_loss: 0.9770 - val_acc: 0.8130\n",
            "Epoch 7/10\n",
            "8000/8000 [==============================] - 2s 236us/step - loss: 1.1928e-07 - acc: 1.0000 - val_loss: 0.9877 - val_acc: 0.8137\n",
            "Epoch 8/10\n",
            "8000/8000 [==============================] - 2s 226us/step - loss: 1.1131e-07 - acc: 1.0000 - val_loss: 0.9992 - val_acc: 0.8132\n",
            "Epoch 9/10\n",
            "8000/8000 [==============================] - 2s 233us/step - loss: 1.1061e-07 - acc: 1.0000 - val_loss: 1.0085 - val_acc: 0.8135\n",
            "Epoch 10/10\n",
            "8000/8000 [==============================] - 2s 222us/step - loss: 1.0984e-07 - acc: 1.0000 - val_loss: 1.0149 - val_acc: 0.8136\n"
          ],
          "name": "stdout"
        }
      ]
    },
    {
      "cell_type": "code",
      "metadata": {
        "id": "WR4TgPnMvruh",
        "colab_type": "code",
        "outputId": "1226da97-2ac2-465c-8429-98b6fb58621d",
        "colab": {
          "base_uri": "https://localhost:8080/",
          "height": 545
        }
      },
      "source": [
        "import matplotlib.pyplot as plt\n",
        "acc = history.history['acc']\n",
        "val_acc = history.history['val_acc']\n",
        "loss = history.history['loss']\n",
        "val_loss = history.history['val_loss']\n",
        "epochs = range(1, len(acc) + 1)\n",
        "plt.plot(epochs, acc, 'bo', label='Training acc')\n",
        "plt.plot(epochs, val_acc, 'b', label='Validation acc')\n",
        "plt.title('Training and validation accuracy')\n",
        "plt.legend()\n",
        "plt.figure()\n",
        "plt.plot(epochs, loss, 'bo', label='Training loss')\n",
        "plt.plot(epochs, val_loss, 'b', label='Validation loss')\n",
        "plt.title('Training and validation loss')\n",
        "plt.legend()\n",
        "plt.show()"
      ],
      "execution_count": 14,
      "outputs": [
        {
          "output_type": "display_data",
          "data": {
            "image/png": "[encoded data removed]",
            "text/plain": [
              "<Figure size 432x288 with 1 Axes>"
            ]
          },
          "metadata": {
            "tags": []
          }
        },
        {
          "output_type": "display_data",
          "data": {
            "image/png": "[encoded data removed]",
            "text/plain": [
              "<Figure size 432x288 with 1 Axes>"
            ]
          },
          "metadata": {
            "tags": []
          }
        }
      ]
    },
    {
      "cell_type": "markdown",
      "metadata": {
        "id": "hEYjS2nowDD9",
        "colab_type": "text"
      },
      "source": [
        "Tokenizing the data of the test set"
      ]
    },
    {
      "cell_type": "code",
      "metadata": {
        "id": "mipIAX8XwD0q",
        "colab_type": "code",
        "colab": {}
      },
      "source": [
        "test_dir = os.path.join(imdb_dir, 'test')\n",
        "labels = []\n",
        "texts = []\n",
        "for label_type in ['neg', 'pos']:\n",
        "  dir_name = os.path.join(test_dir, label_type)\n",
        "  for fname in sorted(os.listdir(dir_name)):\n",
        "    if fname[-4:] == '.txt':\n",
        "      f = open(os.path.join(dir_name, fname))\n",
        "      texts.append(f.read())\n",
        "      f.close()\n",
        "      if label_type == 'neg':\n",
        "        labels.append(0)\n",
        "      else:\n",
        "        labels.append(1)\n",
        "sequences = tokenizer.texts_to_sequences(texts)\n",
        "x_test = pad_sequences(sequences, maxlen=maxlen)\n",
        "y_test = np.asarray(labels)"
      ],
      "execution_count": 0,
      "outputs": []
    },
    {
      "cell_type": "markdown",
      "metadata": {
        "id": "G3axCJANwmHd",
        "colab_type": "text"
      },
      "source": [
        "Evaluating the model on the test set"
      ]
    },
    {
      "cell_type": "code",
      "metadata": {
        "id": "GtoV5crtwnSa",
        "colab_type": "code",
        "outputId": "c597b6bb-5bb4-4a79-92e1-cbb260c9eaec",
        "colab": {
          "base_uri": "https://localhost:8080/",
          "height": 50
        }
      },
      "source": [
        "model.load_weights('/content/drive/My Drive/TSAI_EVA/Phase_2/P2_S1_IMDB_RawData/pre_trained_glove_model.h5')\n",
        "model.evaluate(x_test, y_test)"
      ],
      "execution_count": 16,
      "outputs": [
        {
          "output_type": "stream",
          "text": [
            "25000/25000 [==============================] - 2s 65us/step\n"
          ],
          "name": "stdout"
        },
        {
          "output_type": "execute_result",
          "data": {
            "text/plain": [
              "[1.6826075435256957, 0.67908]"
            ]
          },
          "metadata": {
            "tags": []
          },
          "execution_count": 16
        }
      ]
    }
  ]
}