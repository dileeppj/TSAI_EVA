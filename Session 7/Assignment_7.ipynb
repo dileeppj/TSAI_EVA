{
  "nbformat": 4,
  "nbformat_minor": 0,
  "metadata": {
    "colab": {
      "name": "Assignment 7",
      "version": "0.3.2",
      "provenance": [],
      "collapsed_sections": []
    },
    "kernelspec": {
      "name": "python3",
      "display_name": "Python 3"
    }
  },
  "cells": [
    {
      "cell_type": "code",
      "metadata": {
        "id": "Vw2I2f4UnwQs",
        "colab_type": "code",
        "colab": {
          "base_uri": "https://localhost:8080/",
          "height": 35
        },
        "outputId": "596b027b-791f-4dcb-c3e5-77219c2b60af"
      },
      "source": [
        "from keras.layers import Conv2D, BatchNormalization, Activation, SeparableConv2D, concatenate, MaxPooling2D, GlobalAveragePooling2D\n",
        "from keras.layers import AveragePooling2D, Input, Flatten, Lambda\n",
        "\n",
        "from keras import backend as K\n",
        "from keras.models import Model,Sequential\n",
        "from keras.datasets import cifar10\n",
        "from keras.utils import np_utils\n",
        "import numpy as np\n",
        "import tensorflow as tf\n",
        "from tensorflow.keras import layers\n",
        "\n",
        "import os"
      ],
      "execution_count": 1,
      "outputs": [
        {
          "output_type": "stream",
          "text": [
            "Using TensorFlow backend.\n"
          ],
          "name": "stderr"
        }
      ]
    },
    {
      "cell_type": "code",
      "metadata": {
        "id": "NSSQOoYLoQKH",
        "colab_type": "code",
        "colab": {
          "base_uri": "https://localhost:8080/",
          "height": 53
        },
        "outputId": "7ab8e2a3-6860-4b8e-d6b2-763c6a5a4d4c"
      },
      "source": [
        "# Loading CIFAR Dataset\n",
        "(train_features, train_labels), (test_features, test_labels) = cifar10.load_data()\n",
        "num_train, img_channels, img_rows, img_cols =  train_features.shape\n",
        "num_test, _, _, _ =  test_features.shape\n",
        "num_classes = len(np.unique(train_labels))\n"
      ],
      "execution_count": 2,
      "outputs": [
        {
          "output_type": "stream",
          "text": [
            "Downloading data from https://www.cs.toronto.edu/~kriz/cifar-10-python.tar.gz\n",
            "170500096/170498071 [==============================] - 4s 0us/step\n"
          ],
          "name": "stdout"
        }
      ]
    },
    {
      "cell_type": "code",
      "metadata": {
        "id": "wOuEB8EqoVpA",
        "colab_type": "code",
        "colab": {}
      },
      "source": [
        "train_features = train_features.astype('float32')/255\n",
        "test_features = test_features.astype('float32')/255\n",
        "# convert class labels to binary class labels\n",
        "train_labels = np_utils.to_categorical(train_labels, num_classes)\n",
        "test_labels = np_utils.to_categorical(test_labels, num_classes)"
      ],
      "execution_count": 0,
      "outputs": []
    },
    {
      "cell_type": "code",
      "metadata": {
        "id": "9ZUHt6wIodxj",
        "colab_type": "code",
        "colab": {}
      },
      "source": [
        "def space_to_depth_x2(x):\n",
        "  import tensorflow as tf\n",
        "  return tf.space_to_depth(x, block_size=2)"
      ],
      "execution_count": 0,
      "outputs": []
    },
    {
      "cell_type": "code",
      "metadata": {
        "id": "c7rv8GNCohIL",
        "colab_type": "code",
        "colab": {
          "base_uri": "https://localhost:8080/",
          "height": 595
        },
        "outputId": "2863be83-0511-4806-f0a0-40faa78efe11"
      },
      "source": [
        "inputs = Input(shape=(32, 32, 3,))\n",
        "\n",
        "# Layer 1\n",
        "x1 = SeparableConv2D(32,(5,5),border_mode='same', name='Layer1')(inputs)\n",
        "x1 = BatchNormalization(name = 'bn_conv1')(x1)\n",
        "x1 = Activation('relu')(x1)\n",
        "\n",
        "# Layer 2\n",
        "x2 = Conv2D(32, (5,5), strides=(1,1),border_mode='same', name='Layer_2', use_bias=False)(x1)\n",
        "X2 = BatchNormalization(name = 'bn_conv2')(x2)\n",
        "x2 = Activation('relu')(x2)\n",
        "\n",
        "# Layer 3\n",
        "x3 = Conv2D(32, (5,5), strides=(1,1), border_mode='same', name='Layer_3', use_bias=False)(x2)\n",
        "X3 = BatchNormalization(name = 'bn_conv3')(x3)\n",
        "x3 = Activation('relu')(x3)\n",
        "\n",
        "#adding skip_connection of layer 3\n",
        "skip_connection1 = x1\n",
        "x3_concat =  concatenate([x3, x1])\n",
        "\n",
        "# Layer 4\n",
        "x4 = SeparableConv2D(32,(5,5), border_mode='same', name='Layer4')(x3_concat)\n",
        "x4 = BatchNormalization(name = 'bn_conv4')(x4)\n",
        "x4 = Activation('relu')(x4)\n",
        "\n",
        "#adding skip_connection after layer 4\n",
        "skip_connection2 = x1\n",
        "x4_concat =  concatenate([x4, skip_connection2])\n",
        "\n",
        "#max-pooling layer\n",
        "mp1 = MaxPooling2D(pool_size=(2,2))(x4_concat)\n",
        "\n",
        "# Layer 5\n",
        "x5 = SeparableConv2D(32,(3,3), border_mode='same', name='Layer5')(mp1)\n",
        "x5 = BatchNormalization(name = 'bn_conv5')(x5)\n",
        "x5 = Activation('relu')(x5)\n",
        "x5_concat = concatenate([x4,x1])\n",
        "skip_con5= Lambda(space_to_depth_x2)(x5_concat)\n",
        "x5_concat = concatenate([skip_con5, x5])\n",
        "\n",
        "#Layer 6\n",
        "x6 = Conv2D(32, (5,5), strides=(1,1), border_mode='same', name='Layer_6', use_bias=False)(x5_concat)\n",
        "X6 = BatchNormalization(name = 'bn_conv6')(x6)\n",
        "x6 = Activation('relu')(x6)\n",
        "\n",
        "x6_temp = concatenate([x4,x3])\n",
        "x6_temp = Lambda(space_to_depth_x2)(x6_temp)\n",
        "x6_concat = concatenate([x6_temp, x5,x6])\n",
        "\n",
        "#Layer 7\n",
        "x7 = SeparableConv2D(32,(3,3), border_mode='same', name='Layer7')(x6_concat)\n",
        "x7 = BatchNormalization(name = 'bn_conv7')(x7)\n",
        "x7 = Activation('relu')(x7)\n",
        "x7_temp = concatenate([x1, x3, x4])\n",
        "x7_temp = Lambda(space_to_depth_x2)(x7_temp)\n",
        "x7_concat = concatenate([x5, x6, x7_temp])\n",
        "\n",
        "#Layer 8\n",
        "x8 = SeparableConv2D(32,(5,5), border_mode='same', name='Layer8')(x7_concat)\n",
        "x8 = BatchNormalization(name = 'bn_conv8')(x8)\n",
        "x8 = Activation('relu')(x8)\n",
        "x8_temp = concatenate([x1, x4])\n",
        "x8_temp = Lambda(space_to_depth_x2)(x8_temp)\n",
        "x8_concat = concatenate([x5, x7, x8_temp])\n",
        "\n",
        "#Max-Pooling - 2\n",
        "mp2 = MaxPooling2D(pool_size=(2,2))(x8_concat)\n",
        "x6_temp = Lambda(space_to_depth_x2)(x6)\n",
        "mp2_concat = concatenate([mp2, x6_temp])\n",
        "\n",
        "# Layer 9\n",
        "x9 = Conv2D(32, (5,5), strides=(1,1), border_mode='same', name='Layer_9', use_bias=False)(mp2_concat)\n",
        "X9 = BatchNormalization(name = 'bn_conv9')(x9)\n",
        "x9 = Activation('relu')(x9)\n",
        "x9_temp = concatenate([x1, x2])\n",
        "x9_temp = Lambda(space_to_depth_x2)(x9_temp)\n",
        "x9_temp = concatenate([x9_temp, x7])\n",
        "x9_temp = Lambda(space_to_depth_x2)(x9_temp)\n",
        "x9_concat = concatenate([x9, x9_temp])\n",
        "\n",
        "#Layer 10\n",
        "x10 = SeparableConv2D(32,(5,5), border_mode='same', name='Layer10')(x9_concat)\n",
        "x10 = BatchNormalization(name = 'bn_conv10')(x10)\n",
        "x10 = Activation('relu')(x10)\n",
        "x10_temp = concatenate([x2, x3])\n",
        "x10_temp = Lambda(space_to_depth_x2)(x10_temp)\n",
        "x10_temp = concatenate([x10_temp, x5])\n",
        "x10_temp = Lambda(space_to_depth_x2)(x10_temp)\n",
        "x10_temp = concatenate([x10_temp, x9])\n",
        "x10_concat = concatenate([x10_temp, x10])\n",
        "\n",
        "#Layer 11\n",
        "x11 = Conv2D(32, (3,3), strides=(1,1), border_mode='same', name='Layer_11', use_bias=False)(x10_concat)\n",
        "X11 = BatchNormalization(name = 'bn_conv9')(x11)\n",
        "x11 = Activation('relu')(x11)\n",
        "x11_temp = concatenate([x1, x3, x4])\n",
        "x11_temp = Lambda(space_to_depth_x2)(x11_temp)\n",
        "x11_temp = concatenate([x11_temp, x5])\n",
        "x11_temp = Lambda(space_to_depth_x2)(x11_temp)\n",
        "x11_temp = concatenate([x11_temp, x10])\n",
        "x11_concat = concatenate([x11_temp, x11])\n",
        "\n",
        "#Layer 12\n",
        "x12 = SeparableConv2D(32,(5,5), border_mode='same', name='Layer12')(x11_concat)\n",
        "x12 = BatchNormalization(name = 'bn_conv12')(x12)\n",
        "x12 = Activation('relu')(x12)\n",
        "x12_temp = Lambda(space_to_depth_x2)(x4)\n",
        "x12_temp = concatenate([x12_temp, x7])\n",
        "x12_temp = Lambda(space_to_depth_x2)(x12_temp)\n",
        "x12_temp = concatenate([x12_temp, x10])\n",
        "x12_concat = concatenate([x12_temp, x12])\n",
        "layer_last = Conv2D(10, (3,3), strides=(1,1), name='Layer_last', use_bias=False)(x12_concat)\n",
        "\n",
        "flatten = GlobalAveragePooling2D()(layer_last)\n",
        "output = Activation('softmax')(flatten)\n",
        "\n",
        "model = Sequential()\n",
        "model = Model(inputs = [inputs], output = [output])"
      ],
      "execution_count": 5,
      "outputs": [
        {
          "output_type": "stream",
          "text": [
            "WARNING: Logging before flag parsing goes to stderr.\n",
            "W0625 05:07:05.394922 140549723981696 deprecation_wrapper.py:119] From /usr/local/lib/python3.6/dist-packages/keras/backend/tensorflow_backend.py:74: The name tf.get_default_graph is deprecated. Please use tf.compat.v1.get_default_graph instead.\n",
            "\n",
            "W0625 05:07:05.435391 140549723981696 deprecation_wrapper.py:119] From /usr/local/lib/python3.6/dist-packages/keras/backend/tensorflow_backend.py:517: The name tf.placeholder is deprecated. Please use tf.compat.v1.placeholder instead.\n",
            "\n",
            "/usr/local/lib/python3.6/dist-packages/ipykernel_launcher.py:4: UserWarning: Update your `SeparableConv2D` call to the Keras 2 API: `SeparableConv2D(32, (5, 5), name=\"Layer1\", padding=\"same\")`\n",
            "  after removing the cwd from sys.path.\n",
            "W0625 05:07:05.444946 140549723981696 deprecation_wrapper.py:119] From /usr/local/lib/python3.6/dist-packages/keras/backend/tensorflow_backend.py:4138: The name tf.random_uniform is deprecated. Please use tf.random.uniform instead.\n",
            "\n",
            "W0625 05:07:05.514914 140549723981696 deprecation_wrapper.py:119] From /usr/local/lib/python3.6/dist-packages/keras/backend/tensorflow_backend.py:174: The name tf.get_default_session is deprecated. Please use tf.compat.v1.get_default_session instead.\n",
            "\n",
            "W0625 05:07:05.516309 140549723981696 deprecation_wrapper.py:119] From /usr/local/lib/python3.6/dist-packages/keras/backend/tensorflow_backend.py:181: The name tf.ConfigProto is deprecated. Please use tf.compat.v1.ConfigProto instead.\n",
            "\n",
            "W0625 05:07:05.817177 140549723981696 deprecation_wrapper.py:119] From /usr/local/lib/python3.6/dist-packages/keras/backend/tensorflow_backend.py:1834: The name tf.nn.fused_batch_norm is deprecated. Please use tf.compat.v1.nn.fused_batch_norm instead.\n",
            "\n",
            "/usr/local/lib/python3.6/dist-packages/ipykernel_launcher.py:9: UserWarning: Update your `Conv2D` call to the Keras 2 API: `Conv2D(32, (5, 5), strides=(1, 1), name=\"Layer_2\", use_bias=False, padding=\"same\")`\n",
            "  if __name__ == '__main__':\n",
            "/usr/local/lib/python3.6/dist-packages/ipykernel_launcher.py:14: UserWarning: Update your `Conv2D` call to the Keras 2 API: `Conv2D(32, (5, 5), strides=(1, 1), name=\"Layer_3\", use_bias=False, padding=\"same\")`\n",
            "  \n",
            "/usr/local/lib/python3.6/dist-packages/ipykernel_launcher.py:23: UserWarning: Update your `SeparableConv2D` call to the Keras 2 API: `SeparableConv2D(32, (5, 5), name=\"Layer4\", padding=\"same\")`\n",
            "W0625 05:07:06.196620 140549723981696 deprecation_wrapper.py:119] From /usr/local/lib/python3.6/dist-packages/keras/backend/tensorflow_backend.py:3976: The name tf.nn.max_pool is deprecated. Please use tf.nn.max_pool2d instead.\n",
            "\n",
            "/usr/local/lib/python3.6/dist-packages/ipykernel_launcher.py:35: UserWarning: Update your `SeparableConv2D` call to the Keras 2 API: `SeparableConv2D(32, (3, 3), name=\"Layer5\", padding=\"same\")`\n",
            "/usr/local/lib/python3.6/dist-packages/ipykernel_launcher.py:43: UserWarning: Update your `Conv2D` call to the Keras 2 API: `Conv2D(32, (5, 5), strides=(1, 1), name=\"Layer_6\", use_bias=False, padding=\"same\")`\n",
            "/usr/local/lib/python3.6/dist-packages/ipykernel_launcher.py:52: UserWarning: Update your `SeparableConv2D` call to the Keras 2 API: `SeparableConv2D(32, (3, 3), name=\"Layer7\", padding=\"same\")`\n",
            "/usr/local/lib/python3.6/dist-packages/ipykernel_launcher.py:60: UserWarning: Update your `SeparableConv2D` call to the Keras 2 API: `SeparableConv2D(32, (5, 5), name=\"Layer8\", padding=\"same\")`\n",
            "/usr/local/lib/python3.6/dist-packages/ipykernel_launcher.py:73: UserWarning: Update your `Conv2D` call to the Keras 2 API: `Conv2D(32, (5, 5), strides=(1, 1), name=\"Layer_9\", use_bias=False, padding=\"same\")`\n",
            "/usr/local/lib/python3.6/dist-packages/ipykernel_launcher.py:83: UserWarning: Update your `SeparableConv2D` call to the Keras 2 API: `SeparableConv2D(32, (5, 5), name=\"Layer10\", padding=\"same\")`\n",
            "/usr/local/lib/python3.6/dist-packages/ipykernel_launcher.py:94: UserWarning: Update your `Conv2D` call to the Keras 2 API: `Conv2D(32, (3, 3), strides=(1, 1), name=\"Layer_11\", use_bias=False, padding=\"same\")`\n",
            "/usr/local/lib/python3.6/dist-packages/ipykernel_launcher.py:105: UserWarning: Update your `SeparableConv2D` call to the Keras 2 API: `SeparableConv2D(32, (5, 5), name=\"Layer12\", padding=\"same\")`\n",
            "/usr/local/lib/python3.6/dist-packages/ipykernel_launcher.py:119: UserWarning: Update your `Model` call to the Keras 2 API: `Model(inputs=[<tf.Tenso..., outputs=[<tf.Tenso...)`\n"
          ],
          "name": "stderr"
        }
      ]
    },
    {
      "cell_type": "code",
      "metadata": {
        "id": "Upu66cCuoiQA",
        "colab_type": "code",
        "colab": {
          "base_uri": "https://localhost:8080/",
          "height": 3095
        },
        "outputId": "071487ef-ff99-4c16-caa2-7e756ca91c18"
      },
      "source": [
        "model.summary()"
      ],
      "execution_count": 6,
      "outputs": [
        {
          "output_type": "stream",
          "text": [
            "__________________________________________________________________________________________________\n",
            "Layer (type)                    Output Shape         Param #     Connected to                     \n",
            "==================================================================================================\n",
            "input_1 (InputLayer)            (None, 32, 32, 3)    0                                            \n",
            "__________________________________________________________________________________________________\n",
            "Layer1 (SeparableConv2D)        (None, 32, 32, 32)   203         input_1[0][0]                    \n",
            "__________________________________________________________________________________________________\n",
            "bn_conv1 (BatchNormalization)   (None, 32, 32, 32)   128         Layer1[0][0]                     \n",
            "__________________________________________________________________________________________________\n",
            "activation_1 (Activation)       (None, 32, 32, 32)   0           bn_conv1[0][0]                   \n",
            "__________________________________________________________________________________________________\n",
            "Layer_2 (Conv2D)                (None, 32, 32, 32)   25600       activation_1[0][0]               \n",
            "__________________________________________________________________________________________________\n",
            "activation_2 (Activation)       (None, 32, 32, 32)   0           Layer_2[0][0]                    \n",
            "__________________________________________________________________________________________________\n",
            "Layer_3 (Conv2D)                (None, 32, 32, 32)   25600       activation_2[0][0]               \n",
            "__________________________________________________________________________________________________\n",
            "activation_3 (Activation)       (None, 32, 32, 32)   0           Layer_3[0][0]                    \n",
            "__________________________________________________________________________________________________\n",
            "concatenate_1 (Concatenate)     (None, 32, 32, 64)   0           activation_3[0][0]               \n",
            "                                                                 activation_1[0][0]               \n",
            "__________________________________________________________________________________________________\n",
            "Layer4 (SeparableConv2D)        (None, 32, 32, 32)   3680        concatenate_1[0][0]              \n",
            "__________________________________________________________________________________________________\n",
            "bn_conv4 (BatchNormalization)   (None, 32, 32, 32)   128         Layer4[0][0]                     \n",
            "__________________________________________________________________________________________________\n",
            "activation_4 (Activation)       (None, 32, 32, 32)   0           bn_conv4[0][0]                   \n",
            "__________________________________________________________________________________________________\n",
            "concatenate_2 (Concatenate)     (None, 32, 32, 64)   0           activation_4[0][0]               \n",
            "                                                                 activation_1[0][0]               \n",
            "__________________________________________________________________________________________________\n",
            "max_pooling2d_1 (MaxPooling2D)  (None, 16, 16, 64)   0           concatenate_2[0][0]              \n",
            "__________________________________________________________________________________________________\n",
            "Layer5 (SeparableConv2D)        (None, 16, 16, 32)   2656        max_pooling2d_1[0][0]            \n",
            "__________________________________________________________________________________________________\n",
            "bn_conv5 (BatchNormalization)   (None, 16, 16, 32)   128         Layer5[0][0]                     \n",
            "__________________________________________________________________________________________________\n",
            "concatenate_3 (Concatenate)     (None, 32, 32, 64)   0           activation_4[0][0]               \n",
            "                                                                 activation_1[0][0]               \n",
            "__________________________________________________________________________________________________\n",
            "activation_5 (Activation)       (None, 16, 16, 32)   0           bn_conv5[0][0]                   \n",
            "__________________________________________________________________________________________________\n",
            "lambda_1 (Lambda)               (None, 16, 16, 256)  0           concatenate_3[0][0]              \n",
            "__________________________________________________________________________________________________\n",
            "concatenate_4 (Concatenate)     (None, 16, 16, 288)  0           lambda_1[0][0]                   \n",
            "                                                                 activation_5[0][0]               \n",
            "__________________________________________________________________________________________________\n",
            "concatenate_5 (Concatenate)     (None, 32, 32, 64)   0           activation_4[0][0]               \n",
            "                                                                 activation_3[0][0]               \n",
            "__________________________________________________________________________________________________\n",
            "Layer_6 (Conv2D)                (None, 16, 16, 32)   230400      concatenate_4[0][0]              \n",
            "__________________________________________________________________________________________________\n",
            "lambda_2 (Lambda)               (None, 16, 16, 256)  0           concatenate_5[0][0]              \n",
            "__________________________________________________________________________________________________\n",
            "activation_6 (Activation)       (None, 16, 16, 32)   0           Layer_6[0][0]                    \n",
            "__________________________________________________________________________________________________\n",
            "concatenate_6 (Concatenate)     (None, 16, 16, 320)  0           lambda_2[0][0]                   \n",
            "                                                                 activation_5[0][0]               \n",
            "                                                                 activation_6[0][0]               \n",
            "__________________________________________________________________________________________________\n",
            "Layer7 (SeparableConv2D)        (None, 16, 16, 32)   13152       concatenate_6[0][0]              \n",
            "__________________________________________________________________________________________________\n",
            "bn_conv7 (BatchNormalization)   (None, 16, 16, 32)   128         Layer7[0][0]                     \n",
            "__________________________________________________________________________________________________\n",
            "concatenate_9 (Concatenate)     (None, 32, 32, 64)   0           activation_1[0][0]               \n",
            "                                                                 activation_4[0][0]               \n",
            "__________________________________________________________________________________________________\n",
            "activation_7 (Activation)       (None, 16, 16, 32)   0           bn_conv7[0][0]                   \n",
            "__________________________________________________________________________________________________\n",
            "lambda_4 (Lambda)               (None, 16, 16, 256)  0           concatenate_9[0][0]              \n",
            "__________________________________________________________________________________________________\n",
            "concatenate_10 (Concatenate)    (None, 16, 16, 320)  0           activation_5[0][0]               \n",
            "                                                                 activation_7[0][0]               \n",
            "                                                                 lambda_4[0][0]                   \n",
            "__________________________________________________________________________________________________\n",
            "max_pooling2d_2 (MaxPooling2D)  (None, 8, 8, 320)    0           concatenate_10[0][0]             \n",
            "__________________________________________________________________________________________________\n",
            "lambda_5 (Lambda)               (None, 8, 8, 128)    0           activation_6[0][0]               \n",
            "__________________________________________________________________________________________________\n",
            "concatenate_12 (Concatenate)    (None, 32, 32, 64)   0           activation_1[0][0]               \n",
            "                                                                 activation_2[0][0]               \n",
            "__________________________________________________________________________________________________\n",
            "concatenate_11 (Concatenate)    (None, 8, 8, 448)    0           max_pooling2d_2[0][0]            \n",
            "                                                                 lambda_5[0][0]                   \n",
            "__________________________________________________________________________________________________\n",
            "lambda_6 (Lambda)               (None, 16, 16, 256)  0           concatenate_12[0][0]             \n",
            "__________________________________________________________________________________________________\n",
            "Layer_9 (Conv2D)                (None, 8, 8, 32)     358400      concatenate_11[0][0]             \n",
            "__________________________________________________________________________________________________\n",
            "concatenate_13 (Concatenate)    (None, 16, 16, 288)  0           lambda_6[0][0]                   \n",
            "                                                                 activation_7[0][0]               \n",
            "__________________________________________________________________________________________________\n",
            "activation_9 (Activation)       (None, 8, 8, 32)     0           Layer_9[0][0]                    \n",
            "__________________________________________________________________________________________________\n",
            "lambda_7 (Lambda)               (None, 8, 8, 1152)   0           concatenate_13[0][0]             \n",
            "__________________________________________________________________________________________________\n",
            "concatenate_15 (Concatenate)    (None, 32, 32, 64)   0           activation_2[0][0]               \n",
            "                                                                 activation_3[0][0]               \n",
            "__________________________________________________________________________________________________\n",
            "concatenate_14 (Concatenate)    (None, 8, 8, 1184)   0           activation_9[0][0]               \n",
            "                                                                 lambda_7[0][0]                   \n",
            "__________________________________________________________________________________________________\n",
            "lambda_8 (Lambda)               (None, 16, 16, 256)  0           concatenate_15[0][0]             \n",
            "__________________________________________________________________________________________________\n",
            "Layer10 (SeparableConv2D)       (None, 8, 8, 32)     67520       concatenate_14[0][0]             \n",
            "__________________________________________________________________________________________________\n",
            "concatenate_16 (Concatenate)    (None, 16, 16, 288)  0           lambda_8[0][0]                   \n",
            "                                                                 activation_5[0][0]               \n",
            "__________________________________________________________________________________________________\n",
            "bn_conv10 (BatchNormalization)  (None, 8, 8, 32)     128         Layer10[0][0]                    \n",
            "__________________________________________________________________________________________________\n",
            "concatenate_19 (Concatenate)    (None, 32, 32, 96)   0           activation_1[0][0]               \n",
            "                                                                 activation_3[0][0]               \n",
            "                                                                 activation_4[0][0]               \n",
            "__________________________________________________________________________________________________\n",
            "lambda_9 (Lambda)               (None, 8, 8, 1152)   0           concatenate_16[0][0]             \n",
            "__________________________________________________________________________________________________\n",
            "activation_10 (Activation)      (None, 8, 8, 32)     0           bn_conv10[0][0]                  \n",
            "__________________________________________________________________________________________________\n",
            "lambda_10 (Lambda)              (None, 16, 16, 384)  0           concatenate_19[0][0]             \n",
            "__________________________________________________________________________________________________\n",
            "concatenate_17 (Concatenate)    (None, 8, 8, 1184)   0           lambda_9[0][0]                   \n",
            "                                                                 activation_9[0][0]               \n",
            "__________________________________________________________________________________________________\n",
            "concatenate_20 (Concatenate)    (None, 16, 16, 416)  0           lambda_10[0][0]                  \n",
            "                                                                 activation_5[0][0]               \n",
            "__________________________________________________________________________________________________\n",
            "concatenate_18 (Concatenate)    (None, 8, 8, 1216)   0           concatenate_17[0][0]             \n",
            "                                                                 activation_10[0][0]              \n",
            "__________________________________________________________________________________________________\n",
            "lambda_11 (Lambda)              (None, 8, 8, 1664)   0           concatenate_20[0][0]             \n",
            "__________________________________________________________________________________________________\n",
            "Layer_11 (Conv2D)               (None, 8, 8, 32)     350208      concatenate_18[0][0]             \n",
            "__________________________________________________________________________________________________\n",
            "concatenate_21 (Concatenate)    (None, 8, 8, 1696)   0           lambda_11[0][0]                  \n",
            "                                                                 activation_10[0][0]              \n",
            "__________________________________________________________________________________________________\n",
            "activation_11 (Activation)      (None, 8, 8, 32)     0           Layer_11[0][0]                   \n",
            "__________________________________________________________________________________________________\n",
            "lambda_12 (Lambda)              (None, 16, 16, 128)  0           activation_4[0][0]               \n",
            "__________________________________________________________________________________________________\n",
            "concatenate_22 (Concatenate)    (None, 8, 8, 1728)   0           concatenate_21[0][0]             \n",
            "                                                                 activation_11[0][0]              \n",
            "__________________________________________________________________________________________________\n",
            "concatenate_23 (Concatenate)    (None, 16, 16, 160)  0           lambda_12[0][0]                  \n",
            "                                                                 activation_7[0][0]               \n",
            "__________________________________________________________________________________________________\n",
            "Layer12 (SeparableConv2D)       (None, 8, 8, 32)     98528       concatenate_22[0][0]             \n",
            "__________________________________________________________________________________________________\n",
            "lambda_13 (Lambda)              (None, 8, 8, 640)    0           concatenate_23[0][0]             \n",
            "__________________________________________________________________________________________________\n",
            "bn_conv12 (BatchNormalization)  (None, 8, 8, 32)     128         Layer12[0][0]                    \n",
            "__________________________________________________________________________________________________\n",
            "concatenate_24 (Concatenate)    (None, 8, 8, 672)    0           lambda_13[0][0]                  \n",
            "                                                                 activation_10[0][0]              \n",
            "__________________________________________________________________________________________________\n",
            "activation_12 (Activation)      (None, 8, 8, 32)     0           bn_conv12[0][0]                  \n",
            "__________________________________________________________________________________________________\n",
            "concatenate_25 (Concatenate)    (None, 8, 8, 704)    0           concatenate_24[0][0]             \n",
            "                                                                 activation_12[0][0]              \n",
            "__________________________________________________________________________________________________\n",
            "Layer_last (Conv2D)             (None, 6, 6, 10)     63360       concatenate_25[0][0]             \n",
            "__________________________________________________________________________________________________\n",
            "global_average_pooling2d_1 (Glo (None, 10)           0           Layer_last[0][0]                 \n",
            "__________________________________________________________________________________________________\n",
            "activation_13 (Activation)      (None, 10)           0           global_average_pooling2d_1[0][0] \n",
            "==================================================================================================\n",
            "Total params: 1,240,075\n",
            "Trainable params: 1,239,691\n",
            "Non-trainable params: 384\n",
            "__________________________________________________________________________________________________\n"
          ],
          "name": "stdout"
        }
      ]
    },
    {
      "cell_type": "code",
      "metadata": {
        "id": "lYyjQXZqokZi",
        "colab_type": "code",
        "colab": {
          "base_uri": "https://localhost:8080/",
          "height": 73
        },
        "outputId": "5c379d18-cc6a-443d-b9c4-078392cd4987"
      },
      "source": [
        "model.compile(loss='categorical_crossentropy',\n",
        "              optimizer=\"adam\",\n",
        "              metrics=['accuracy'])\n",
        "\n",
        "# model.fit(train_features, train_labels, batch_size=64, epochs=100, verbose=1, validation_data=(test_features,test_labels))\n",
        "# model.save('CIFAR10_ENAS.hdf5')"
      ],
      "execution_count": 7,
      "outputs": [
        {
          "output_type": "stream",
          "text": [
            "W0625 05:07:07.275646 140549723981696 deprecation_wrapper.py:119] From /usr/local/lib/python3.6/dist-packages/keras/optimizers.py:790: The name tf.train.Optimizer is deprecated. Please use tf.compat.v1.train.Optimizer instead.\n",
            "\n"
          ],
          "name": "stderr"
        }
      ]
    },
    {
      "cell_type": "code",
      "metadata": {
        "id": "yUZc7OPmBE0m",
        "colab_type": "code",
        "colab": {
          "base_uri": "https://localhost:8080/",
          "height": 199
        },
        "outputId": "096548d0-2dfb-453e-cf40-b6081880a2b7"
      },
      "source": [
        "\n",
        "# Importing required packages\n",
        "import time\n",
        "from keras.preprocessing.image import ImageDataGenerator\n",
        "\n",
        "datagen = ImageDataGenerator(zoom_range=0.0, \n",
        "                             horizontal_flip=False)\n",
        "\n",
        "\n",
        "# train the model\n",
        "start = time.time()\n",
        "# Train the model\n",
        "model_info = model.fit_generator(datagen.flow(train_features, train_labels, batch_size = 128),\n",
        "                                 samples_per_epoch = train_features.shape[0], nb_epoch = 100, \n",
        "                                 validation_data = (test_features, test_labels), verbose=1)\n",
        "end = time.time()\n",
        "print (\"Model took %0.2f seconds to train\"%(end - start))\n",
        "# plot model history\n",
        "plot_model_history(model_info)\n",
        "# compute test accuracy\n",
        "print (\"Accuracy on test data is: %0.2f\"%accuracy(test_features, test_labels, model))"
      ],
      "execution_count": 0,
      "outputs": [
        {
          "output_type": "stream",
          "text": [
            "/usr/local/lib/python3.6/dist-packages/ipykernel_launcher.py:13: UserWarning: The semantics of the Keras 2 argument `steps_per_epoch` is not the same as the Keras 1 argument `samples_per_epoch`. `steps_per_epoch` is the number of batches to draw from the generator at each epoch. Basically steps_per_epoch = samples_per_epoch/batch_size. Similarly `nb_val_samples`->`validation_steps` and `val_samples`->`steps` arguments have changed. Update your method calls accordingly.\n",
            "  del sys.path[0]\n",
            "/usr/local/lib/python3.6/dist-packages/ipykernel_launcher.py:13: UserWarning: Update your `fit_generator` call to the Keras 2 API: `fit_generator(<keras_pre..., validation_data=(array([[[..., verbose=1, steps_per_epoch=390, epochs=100)`\n",
            "  del sys.path[0]\n",
            "W0625 05:07:07.456601 140549723981696 deprecation.py:323] From /usr/local/lib/python3.6/dist-packages/tensorflow/python/ops/math_grad.py:1250: add_dispatch_support.<locals>.wrapper (from tensorflow.python.ops.array_ops) is deprecated and will be removed in a future version.\n",
            "Instructions for updating:\n",
            "Use tf.where in 2.0, which has the same broadcast rule as np.where\n"
          ],
          "name": "stderr"
        },
        {
          "output_type": "stream",
          "text": [
            "Epoch 1/100\n",
            "110/390 [=======>......................] - ETA: 34:42 - loss: 1.7533 - acc: 0.3592"
          ],
          "name": "stdout"
        }
      ]
    },
    {
      "cell_type": "code",
      "metadata": {
        "id": "cvOVNokFopVd",
        "colab_type": "code",
        "colab": {}
      },
      "source": [
        "score = model.evaluate(test_features, test_labels, verbose=1)\n",
        "print('Test loss:', score[0])\n",
        "print('Test accuracy:', score[1])"
      ],
      "execution_count": 0,
      "outputs": []
    }
  ]
}