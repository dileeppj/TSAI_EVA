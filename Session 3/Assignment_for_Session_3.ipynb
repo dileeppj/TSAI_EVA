{
  "nbformat": 4,
  "nbformat_minor": 0,
  "metadata": {
    "colab": {
      "name": "Assignment for Session 3",
      "version": "0.3.2",
      "provenance": [],
      "collapsed_sections": []
    },
    "kernelspec": {
      "name": "python3",
      "display_name": "Python 3"
    },
    "accelerator": "GPU"
  },
  "cells": [
    {
      "cell_type": "markdown",
      "metadata": {
        "id": "aNyZv-Ec52ot",
        "colab_type": "text"
      },
      "source": [
        "### Import Libraries and modules"
      ]
    },
    {
      "cell_type": "code",
      "metadata": {
        "id": "3m3w1Cw49Zkt",
        "colab_type": "code",
        "colab": {}
      },
      "source": [
        "# Installing and Importing Keras to the Colab Notebook\n",
        "# https://keras.io/\n",
        "!pip install -q keras\n",
        "import keras"
      ],
      "execution_count": 0,
      "outputs": []
    },
    {
      "cell_type": "code",
      "metadata": {
        "id": "Eso6UHE080D4",
        "colab_type": "code",
        "colab": {}
      },
      "source": [
        "# Here we are importing numpy library so that we can work on large multidimentional arrays\n",
        "import numpy as np\n",
        "# Importing required modules from keras\n",
        "from keras.models import Sequential\n",
        "from keras.layers import Dense, Dropout, Activation, Flatten, Add\n",
        "from keras.layers import Convolution2D, MaxPooling2D\n",
        "from keras.utils import np_utils\n",
        "# Importing the MNIST database from datasets in keras \n",
        "from keras.datasets import mnist"
      ],
      "execution_count": 0,
      "outputs": []
    },
    {
      "cell_type": "markdown",
      "metadata": {
        "id": "zByEi95J86RD",
        "colab_type": "text"
      },
      "source": [
        "### Load pre-shuffled MNIST data into train and test sets"
      ]
    },
    {
      "cell_type": "code",
      "metadata": {
        "id": "7eRM0QWN83PV",
        "colab_type": "code",
        "colab": {}
      },
      "source": [
        "\n",
        "(X_train, y_train), (X_test, y_test) = mnist.load_data()"
      ],
      "execution_count": 0,
      "outputs": []
    },
    {
      "cell_type": "code",
      "metadata": {
        "id": "4a4Be72j8-ZC",
        "colab_type": "code",
        "outputId": "754e475c-6c5a-4c46-c2a7-c1ae8c30d9c6",
        "colab": {
          "base_uri": "https://localhost:8080/",
          "height": 323
        }
      },
      "source": [
        "# Printing the shape of the trainig set and test set images \n",
        "print (\"xTrain Shape : \",X_train.shape) # Training Set 60000 images of size 28x28\n",
        "print (\"xTest Shape  : \",X_test.shape)  # Testing  Set 10000 images of size 28x28\n",
        "# Importing pyplot from matplotloib\n",
        "from matplotlib import pyplot as plt\n",
        "%matplotlib inline\n",
        "# Showing sample image in the training dataset\n",
        "plt.imshow(X_train[2])"
      ],
      "execution_count": 17,
      "outputs": [
        {
          "output_type": "stream",
          "text": [
            "xTrain Shape :  (60000, 28, 28)\n",
            "xTest Shape  :  (10000, 28, 28)\n"
          ],
          "name": "stdout"
        },
        {
          "output_type": "execute_result",
          "data": {
            "text/plain": [
              "<matplotlib.image.AxesImage at 0x7f10119c49e8>"
            ]
          },
          "metadata": {
            "tags": []
          },
          "execution_count": 17
        },
        {
          "output_type": "display_data",
          "data": {
            "image/png": "[encoded data removed]",
            "text/plain": [
              "<Figure size 432x288 with 1 Axes>"
            ]
          },
          "metadata": {
            "tags": []
          }
        }
      ]
    },
    {
      "cell_type": "code",
      "metadata": {
        "id": "dkmprriw9AnZ",
        "colab_type": "code",
        "colab": {
          "base_uri": "https://localhost:8080/",
          "height": 53
        },
        "outputId": "dc115bfd-eead-4330-8273-2f05f887fb57"
      },
      "source": [
        "# Reshaping the training and testing images to 28x28 of 1 channel\n",
        "X_train = X_train.reshape(X_train.shape[0], 28, 28,1)\n",
        "X_test = X_test.reshape(X_test.shape[0], 28, 28,1)\n",
        "print (\"xTrain new shape : \",X_train.shape)\n",
        "print (\"xTest  new shape : \",X_test.shape) "
      ],
      "execution_count": 18,
      "outputs": [
        {
          "output_type": "stream",
          "text": [
            "xTrain new shape :  (60000, 28, 28, 1)\n",
            "xTest  new shape :  (10000, 28, 28, 1)\n"
          ],
          "name": "stdout"
        }
      ]
    },
    {
      "cell_type": "code",
      "metadata": {
        "id": "X2m4YS4E9CRh",
        "colab_type": "code",
        "colab": {}
      },
      "source": [
        "# Making training & testing velues between 255\n",
        "X_train = X_train.astype('float32')\n",
        "X_test = X_test.astype('float32')\n",
        "X_train /= 255\n",
        "X_test /= 255"
      ],
      "execution_count": 0,
      "outputs": []
    },
    {
      "cell_type": "code",
      "metadata": {
        "id": "0Mn0vAYD9DvB",
        "colab_type": "code",
        "outputId": "fbd352c8-1331-4011-9b51-b6d9e8d2a584",
        "colab": {
          "base_uri": "https://localhost:8080/",
          "height": 35
        }
      },
      "source": [
        "# Show the values of first 10 elements in training dataset\n",
        "y_train[:10]"
      ],
      "execution_count": 20,
      "outputs": [
        {
          "output_type": "execute_result",
          "data": {
            "text/plain": [
              "array([5, 0, 4, 1, 9, 2, 1, 3, 1, 4], dtype=uint8)"
            ]
          },
          "metadata": {
            "tags": []
          },
          "execution_count": 20
        }
      ]
    },
    {
      "cell_type": "code",
      "metadata": {
        "id": "ZG8JiXR39FHC",
        "colab_type": "code",
        "colab": {
          "base_uri": "https://localhost:8080/",
          "height": 197
        },
        "outputId": "7a19d5e8-6377-420d-e85c-8a3218dc518e"
      },
      "source": [
        "# Convert 1-dimensional class arrays to 10-dimensional class matrices\n",
        "Y_train = np_utils.to_categorical(y_train, 10)\n",
        "Y_test = np_utils.to_categorical(y_test, 10)\n",
        "# Print the values of first 10 elements in training dataset in one-shot\n",
        "Y_train[:10]"
      ],
      "execution_count": 21,
      "outputs": [
        {
          "output_type": "execute_result",
          "data": {
            "text/plain": [
              "array([[0., 0., 0., 0., 0., 1., 0., 0., 0., 0.],\n",
              "       [1., 0., 0., 0., 0., 0., 0., 0., 0., 0.],\n",
              "       [0., 0., 0., 0., 1., 0., 0., 0., 0., 0.],\n",
              "       [0., 1., 0., 0., 0., 0., 0., 0., 0., 0.],\n",
              "       [0., 0., 0., 0., 0., 0., 0., 0., 0., 1.],\n",
              "       [0., 0., 1., 0., 0., 0., 0., 0., 0., 0.],\n",
              "       [0., 1., 0., 0., 0., 0., 0., 0., 0., 0.],\n",
              "       [0., 0., 0., 1., 0., 0., 0., 0., 0., 0.],\n",
              "       [0., 1., 0., 0., 0., 0., 0., 0., 0., 0.],\n",
              "       [0., 0., 0., 0., 1., 0., 0., 0., 0., 0.]], dtype=float32)"
            ]
          },
          "metadata": {
            "tags": []
          },
          "execution_count": 21
        }
      ]
    },
    {
      "cell_type": "code",
      "metadata": {
        "id": "osKqT73Q9JJB",
        "colab_type": "code",
        "outputId": "e42715ff-3687-45c1-ccdc-c82c9b24c426",
        "colab": {
          "base_uri": "https://localhost:8080/",
          "height": 359
        }
      },
      "source": [
        "# Importing activation and maxpooling modules\n",
        "from keras.layers import Activation, MaxPooling2D, BatchNormalization\n",
        "# Creating Sequential Model\n",
        "model = Sequential()\n",
        "\n",
        "model.add(Convolution2D(16, 3, 3, activation='relu', input_shape=(28,28,1))) # Convolution 1 -> 28x28 - 26x26 ; RF 3x3 ; CH 32\n",
        "model.add(Convolution2D(32, 3, 3, activation='relu')) # 24x24x64\n",
        "\n",
        "model.add(Convolution2D(16, 1, 1)) # \n",
        "model.add(Convolution2D(32, 3, 3, activation='relu')) # \n",
        "\n",
        "model.add(MaxPooling2D(pool_size=(2,2))) # \n",
        "\n",
        "model.add(Convolution2D(32, 3, 3, activation='relu')) #\n",
        "model.add(Convolution2D(64, 3, 3, activation='relu')) # \n",
        "model.add(Convolution2D(16, 1, 1)) # \n",
        "\n",
        "model.add(BatchNormalization())\n",
        "\n",
        "model.add(Convolution2D(32, 3, 3, activation='relu')) # \n",
        "model.add(Convolution2D(64, 3, 3, activation='relu')) # \n",
        "model.add(Convolution2D(16, 1, 1)) # \n",
        "\n",
        "model.add(BatchNormalization())\n",
        "\n",
        "model.add(Convolution2D(32, 3, 3, activation='relu')) # \n",
        "model.add(Convolution2D(10, 1, 1, activation='relu'))\n",
        "\n",
        "model.add(BatchNormalization())\n",
        "\n",
        "model.add(Flatten())\n",
        "model.add(Activation('softmax'))"
      ],
      "execution_count": 24,
      "outputs": [
        {
          "output_type": "stream",
          "text": [
            "/usr/local/lib/python3.6/dist-packages/ipykernel_launcher.py:5: UserWarning: Update your `Conv2D` call to the Keras 2 API: `Conv2D(16, (3, 3), activation=\"relu\", input_shape=(28, 28, 1...)`\n",
            "  \"\"\"\n",
            "/usr/local/lib/python3.6/dist-packages/ipykernel_launcher.py:6: UserWarning: Update your `Conv2D` call to the Keras 2 API: `Conv2D(32, (3, 3), activation=\"relu\")`\n",
            "  \n",
            "/usr/local/lib/python3.6/dist-packages/ipykernel_launcher.py:8: UserWarning: Update your `Conv2D` call to the Keras 2 API: `Conv2D(16, (1, 1))`\n",
            "  \n",
            "/usr/local/lib/python3.6/dist-packages/ipykernel_launcher.py:9: UserWarning: Update your `Conv2D` call to the Keras 2 API: `Conv2D(32, (3, 3), activation=\"relu\")`\n",
            "  if __name__ == '__main__':\n",
            "/usr/local/lib/python3.6/dist-packages/ipykernel_launcher.py:13: UserWarning: Update your `Conv2D` call to the Keras 2 API: `Conv2D(32, (3, 3), activation=\"relu\")`\n",
            "  del sys.path[0]\n",
            "/usr/local/lib/python3.6/dist-packages/ipykernel_launcher.py:14: UserWarning: Update your `Conv2D` call to the Keras 2 API: `Conv2D(64, (3, 3), activation=\"relu\")`\n",
            "  \n",
            "/usr/local/lib/python3.6/dist-packages/ipykernel_launcher.py:15: UserWarning: Update your `Conv2D` call to the Keras 2 API: `Conv2D(16, (1, 1))`\n",
            "  from ipykernel import kernelapp as app\n",
            "/usr/local/lib/python3.6/dist-packages/ipykernel_launcher.py:19: UserWarning: Update your `Conv2D` call to the Keras 2 API: `Conv2D(32, (3, 3), activation=\"relu\")`\n",
            "/usr/local/lib/python3.6/dist-packages/ipykernel_launcher.py:20: UserWarning: Update your `Conv2D` call to the Keras 2 API: `Conv2D(64, (3, 3), activation=\"relu\")`\n",
            "/usr/local/lib/python3.6/dist-packages/ipykernel_launcher.py:21: UserWarning: Update your `Conv2D` call to the Keras 2 API: `Conv2D(16, (1, 1))`\n",
            "/usr/local/lib/python3.6/dist-packages/ipykernel_launcher.py:25: UserWarning: Update your `Conv2D` call to the Keras 2 API: `Conv2D(32, (3, 3), activation=\"relu\")`\n",
            "/usr/local/lib/python3.6/dist-packages/ipykernel_launcher.py:26: UserWarning: Update your `Conv2D` call to the Keras 2 API: `Conv2D(10, (1, 1), activation=\"relu\")`\n"
          ],
          "name": "stderr"
        }
      ]
    },
    {
      "cell_type": "code",
      "metadata": {
        "id": "TzdAYg1k9K7Z",
        "colab_type": "code",
        "outputId": "ed5d2db4-459d-45ca-b1ca-ba1b8d894218",
        "colab": {
          "base_uri": "https://localhost:8080/",
          "height": 791
        }
      },
      "source": [
        "model.summary()"
      ],
      "execution_count": 25,
      "outputs": [
        {
          "output_type": "stream",
          "text": [
            "_________________________________________________________________\n",
            "Layer (type)                 Output Shape              Param #   \n",
            "=================================================================\n",
            "conv2d_27 (Conv2D)           (None, 26, 26, 16)        160       \n",
            "_________________________________________________________________\n",
            "conv2d_28 (Conv2D)           (None, 24, 24, 32)        4640      \n",
            "_________________________________________________________________\n",
            "conv2d_29 (Conv2D)           (None, 24, 24, 16)        528       \n",
            "_________________________________________________________________\n",
            "conv2d_30 (Conv2D)           (None, 22, 22, 32)        4640      \n",
            "_________________________________________________________________\n",
            "max_pooling2d_3 (MaxPooling2 (None, 11, 11, 32)        0         \n",
            "_________________________________________________________________\n",
            "conv2d_31 (Conv2D)           (None, 9, 9, 32)          9248      \n",
            "_________________________________________________________________\n",
            "conv2d_32 (Conv2D)           (None, 7, 7, 64)          18496     \n",
            "_________________________________________________________________\n",
            "conv2d_33 (Conv2D)           (None, 7, 7, 16)          1040      \n",
            "_________________________________________________________________\n",
            "batch_normalization_7 (Batch (None, 7, 7, 16)          64        \n",
            "_________________________________________________________________\n",
            "conv2d_34 (Conv2D)           (None, 5, 5, 32)          4640      \n",
            "_________________________________________________________________\n",
            "conv2d_35 (Conv2D)           (None, 3, 3, 64)          18496     \n",
            "_________________________________________________________________\n",
            "conv2d_36 (Conv2D)           (None, 3, 3, 16)          1040      \n",
            "_________________________________________________________________\n",
            "batch_normalization_8 (Batch (None, 3, 3, 16)          64        \n",
            "_________________________________________________________________\n",
            "conv2d_37 (Conv2D)           (None, 1, 1, 32)          4640      \n",
            "_________________________________________________________________\n",
            "conv2d_38 (Conv2D)           (None, 1, 1, 10)          330       \n",
            "_________________________________________________________________\n",
            "batch_normalization_9 (Batch (None, 1, 1, 10)          40        \n",
            "_________________________________________________________________\n",
            "flatten_3 (Flatten)          (None, 10)                0         \n",
            "_________________________________________________________________\n",
            "activation_3 (Activation)    (None, 10)                0         \n",
            "=================================================================\n",
            "Total params: 68,066\n",
            "Trainable params: 67,982\n",
            "Non-trainable params: 84\n",
            "_________________________________________________________________\n"
          ],
          "name": "stdout"
        }
      ]
    },
    {
      "cell_type": "code",
      "metadata": {
        "id": "Zp6SuGrL9M3h",
        "colab_type": "code",
        "colab": {}
      },
      "source": [
        "model.compile(loss='categorical_crossentropy',\n",
        "             optimizer='adam',\n",
        "             metrics=['accuracy'])"
      ],
      "execution_count": 0,
      "outputs": []
    },
    {
      "cell_type": "code",
      "metadata": {
        "id": "4xWoKhPY9Of5",
        "colab_type": "code",
        "outputId": "cc2f7460-e47d-44ff-edd1-15faeb3bb227",
        "colab": {
          "base_uri": "https://localhost:8080/",
          "height": 631
        }
      },
      "source": [
        "model.fit(X_train, Y_train, batch_size=64, nb_epoch=15, verbose=1)"
      ],
      "execution_count": 33,
      "outputs": [
        {
          "output_type": "stream",
          "text": [
            "Epoch 1/15\n",
            " 1024/60000 [..............................] - ETA: 11s - loss: 0.0280 - acc: 0.9951"
          ],
          "name": "stdout"
        },
        {
          "output_type": "stream",
          "text": [
            "/usr/local/lib/python3.6/dist-packages/ipykernel_launcher.py:1: UserWarning: The `nb_epoch` argument in `fit` has been renamed `epochs`.\n",
            "  \"\"\"Entry point for launching an IPython kernel.\n"
          ],
          "name": "stderr"
        },
        {
          "output_type": "stream",
          "text": [
            "60000/60000 [==============================] - 9s 153us/step - loss: 0.0137 - acc: 0.9966\n",
            "Epoch 2/15\n",
            "60000/60000 [==============================] - 9s 151us/step - loss: 0.0160 - acc: 0.9960\n",
            "Epoch 3/15\n",
            "60000/60000 [==============================] - 9s 150us/step - loss: 0.0175 - acc: 0.9959\n",
            "Epoch 4/15\n",
            "60000/60000 [==============================] - 9s 150us/step - loss: 0.0108 - acc: 0.9974\n",
            "Epoch 5/15\n",
            "60000/60000 [==============================] - 9s 150us/step - loss: 0.0101 - acc: 0.9975\n",
            "Epoch 6/15\n",
            "60000/60000 [==============================] - 10s 167us/step - loss: 0.0111 - acc: 0.9972\n",
            "Epoch 7/15\n",
            "60000/60000 [==============================] - 9s 149us/step - loss: 0.0093 - acc: 0.9976\n",
            "Epoch 8/15\n",
            "60000/60000 [==============================] - 9s 150us/step - loss: 0.0128 - acc: 0.9970\n",
            "Epoch 9/15\n",
            "60000/60000 [==============================] - 9s 150us/step - loss: 0.0109 - acc: 0.9976\n",
            "Epoch 10/15\n",
            "60000/60000 [==============================] - 9s 150us/step - loss: 0.0105 - acc: 0.9974\n",
            "Epoch 11/15\n",
            "60000/60000 [==============================] - 9s 149us/step - loss: 0.0139 - acc: 0.9967\n",
            "Epoch 12/15\n",
            "60000/60000 [==============================] - 10s 169us/step - loss: 0.0084 - acc: 0.9978\n",
            "Epoch 13/15\n",
            "60000/60000 [==============================] - 9s 153us/step - loss: 0.0120 - acc: 0.9971\n",
            "Epoch 14/15\n",
            "60000/60000 [==============================] - 9s 155us/step - loss: 0.0113 - acc: 0.9969\n",
            "Epoch 15/15\n",
            "60000/60000 [==============================] - 10s 161us/step - loss: 0.0066 - acc: 0.9984\n"
          ],
          "name": "stdout"
        },
        {
          "output_type": "execute_result",
          "data": {
            "text/plain": [
              "<keras.callbacks.History at 0x7f101052a550>"
            ]
          },
          "metadata": {
            "tags": []
          },
          "execution_count": 33
        }
      ]
    },
    {
      "cell_type": "code",
      "metadata": {
        "id": "AtsH-lLk-eLb",
        "colab_type": "code",
        "colab": {
          "base_uri": "https://localhost:8080/",
          "height": 35
        },
        "outputId": "98a2e676-82f6-42e6-db42-b4629693b8d1"
      },
      "source": [
        "score = model.evaluate(X_test, Y_test, verbose=0)\n",
        "print(score)"
      ],
      "execution_count": 34,
      "outputs": [
        {
          "output_type": "stream",
          "text": [
            "[0.024241790898010367, 0.9948]\n"
          ],
          "name": "stdout"
        }
      ]
    },
    {
      "cell_type": "code",
      "metadata": {
        "id": "OCWoJkwE9suh",
        "colab_type": "code",
        "colab": {}
      },
      "source": [
        "y_pred = model.predict(X_test)"
      ],
      "execution_count": 0,
      "outputs": []
    },
    {
      "cell_type": "code",
      "metadata": {
        "id": "Ym7iCFBm9uBs",
        "colab_type": "code",
        "outputId": "2e8ea161-923d-4e82-dfe8-a51f79516c9b",
        "colab": {
          "base_uri": "https://localhost:8080/",
          "height": 521
        }
      },
      "source": [
        "print(y_pred[:9])\n",
        "print(y_test[:9])"
      ],
      "execution_count": 36,
      "outputs": [
        {
          "output_type": "stream",
          "text": [
            "[[9.79314245e-06 1.08550939e-05 1.83475440e-05 2.34060954e-05\n",
            "  9.73981969e-06 6.89004719e-06 1.62305350e-05 9.99879479e-01\n",
            "  1.87297701e-05 6.37048970e-06]\n",
            " [1.18105969e-08 1.30913289e-08 1.00000000e+00 2.82279373e-08\n",
            "  1.17463008e-08 8.30944380e-09 1.95741521e-08 6.43018394e-09\n",
            "  2.25882300e-08 7.68286856e-09]\n",
            " [1.43662220e-07 9.99981165e-01 2.69152508e-07 3.43359829e-07\n",
            "  3.76434514e-06 1.01074662e-07 2.38096646e-07 3.28586725e-06\n",
            "  2.74759628e-07 1.04937671e-05]\n",
            " [9.99903798e-01 2.00069326e-06 3.38162067e-06 4.31395756e-06\n",
            "  2.74197882e-05 1.26989880e-06 2.99143608e-06 3.42747044e-05\n",
            "  3.45206809e-06 1.71025495e-05]\n",
            " [3.92451557e-06 4.35008269e-06 7.35261710e-06 9.37978712e-06\n",
            "  9.99953628e-01 2.76112587e-06 6.50424363e-06 2.13667067e-06\n",
            "  7.50579056e-06 2.55291775e-06]\n",
            " [2.09629718e-07 9.99952197e-01 3.92743232e-07 5.01025340e-07\n",
            "  6.24109362e-06 1.47486730e-07 3.47426976e-07 2.14578849e-05\n",
            "  4.00925018e-07 1.80857132e-05]\n",
            " [2.13679709e-06 2.36850792e-06 4.00330964e-06 5.10705104e-06\n",
            "  9.99974728e-01 1.50336166e-06 3.54139206e-06 1.16336184e-06\n",
            "  4.08670849e-06 1.38999769e-06]\n",
            " [3.59989179e-04 3.99025943e-04 6.74443028e-04 8.60391825e-04\n",
            "  4.50614985e-04 2.53273378e-04 5.96623227e-04 1.95993183e-04\n",
            "  6.88493368e-04 9.95521188e-01]\n",
            " [1.82319200e-04 2.02089766e-04 3.41576728e-04 4.35751921e-04\n",
            "  1.81326657e-04 9.97788191e-01 3.02164583e-04 9.92623027e-05\n",
            "  3.48692789e-04 1.18599695e-04]]\n",
            "[7 2 1 0 4 1 4 9 5]\n"
          ],
          "name": "stdout"
        }
      ]
    },
    {
      "cell_type": "code",
      "metadata": {
        "id": "CT--y98_dr2T",
        "colab_type": "code",
        "colab": {}
      },
      "source": [
        "layer_dict = dict([(layer.name, layer) for layer in model.layers])"
      ],
      "execution_count": 0,
      "outputs": []
    },
    {
      "cell_type": "code",
      "metadata": {
        "id": "2GY4Upv4dsUR",
        "colab_type": "code",
        "colab": {}
      },
      "source": [
        "import numpy as np\n",
        "from matplotlib import pyplot as plt\n",
        "from keras import backend as K\n",
        "%matplotlib inline\n",
        "# util function to convert a tensor into a valid image\n",
        "def deprocess_image(x):\n",
        "    # normalize tensor: center on 0., ensure std is 0.1\n",
        "    x -= x.mean()\n",
        "    x /= (x.std() + 1e-5)\n",
        "    x *= 0.1\n",
        "\n",
        "    # clip to [0, 1]\n",
        "    x += 0.5\n",
        "    x = np.clip(x, 0, 1)\n",
        "\n",
        "    # convert to RGB array\n",
        "    x *= 255\n",
        "    #x = x.transpose((1, 2, 0))\n",
        "    x = np.clip(x, 0, 255).astype('uint8')\n",
        "    return x\n",
        "\n",
        "def vis_img_in_filter(img = np.array(X_train[2]).reshape((1, 28, 28, 1)).astype(np.float64), \n",
        "                      layer_name = 'conv2d_13'):\n",
        "    layer_output = layer_dict[layer_name].output\n",
        "    img_ascs = list()\n",
        "    for filter_index in range(layer_output.shape[3]):\n",
        "        # build a loss function that maximizes the activation\n",
        "        # of the nth filter of the layer considered\n",
        "        loss = K.mean(layer_output[:, :, :, filter_index])\n",
        "\n",
        "        # compute the gradient of the input picture wrt this loss\n",
        "        grads = K.gradients(loss, model.input)[0]\n",
        "\n",
        "        # normalization trick: we normalize the gradient\n",
        "        grads /= (K.sqrt(K.mean(K.square(grads))) + 1e-5)\n",
        "\n",
        "        # this function returns the loss and grads given the input picture\n",
        "        iterate = K.function([model.input], [loss, grads])\n",
        "\n",
        "        # step size for gradient ascent\n",
        "        step = 5.\n",
        "\n",
        "        img_asc = np.array(img)\n",
        "        # run gradient ascent for 20 steps\n",
        "        for i in range(20):\n",
        "            loss_value, grads_value = iterate([img_asc])\n",
        "            img_asc += grads_value * step\n",
        "\n",
        "        img_asc = img_asc[0]\n",
        "        img_ascs.append(deprocess_image(img_asc).reshape((28, 28)))\n",
        "        \n",
        "    if layer_output.shape[3] >= 35:\n",
        "        plot_x, plot_y = 8, 6\n",
        "    elif layer_output.shape[3] >= 23:\n",
        "        plot_x, plot_y = 4, 6\n",
        "    elif layer_output.shape[3] >= 11:\n",
        "        plot_x, plot_y = 2, 6\n",
        "    else:\n",
        "        plot_x, plot_y = 1, 2\n",
        "    fig, ax = plt.subplots(plot_x, plot_y, figsize = (12, 12))\n",
        "    ax[0, 0].imshow(img.reshape((28, 28)), cmap = 'gray')\n",
        "    ax[0, 0].set_title('Input image')\n",
        "    fig.suptitle('Input image and %s filters' % (layer_name,))\n",
        "    fig.tight_layout(pad = 0.3, rect = [0, 0, 0.9, 0.9])\n",
        "    for (x, y) in [(i, j) for i in range(plot_x) for j in range(plot_y)]:\n",
        "        if x == 0 and y == 0:\n",
        "            continue\n",
        "        ax[x, y].imshow(img_ascs[x * plot_y + y - 1], cmap = 'gray')\n",
        "        ax[x, y].set_title('filter %d' % (x * plot_y + y - 1))\n",
        "\n",
        "vis_img_in_filter()"
      ],
      "execution_count": 0,
      "outputs": []
    },
    {
      "cell_type": "code",
      "metadata": {
        "id": "9tvptcn8dxvp",
        "colab_type": "code",
        "colab": {}
      },
      "source": [
        ""
      ],
      "execution_count": 0,
      "outputs": []
    }
  ]
}